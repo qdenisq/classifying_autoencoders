{
 "cells": [
  {
   "cell_type": "markdown",
   "metadata": {
    "collapsed": true
   },
   "source": [
    "# WELCOME"
   ]
  },
  {
   "cell_type": "code",
   "execution_count": 1,
   "metadata": {},
   "outputs": [],
   "source": [
    "# import here\n",
    "import os\n",
    "import sys\n",
    "sys.path.append(\"../\")\n",
    "from src.pytorch_cl_vae.model import ResNet18Classifier \n",
    "from sklearn.metrics import accuracy_score\n",
    "import torch\n",
    "from torch.nn import CrossEntropyLoss\n",
    "from matplotlib import pyplot as plt\n",
    "%matplotlib inline\n",
    "# params here\n",
    "params = {\n",
    "    attributes: ['Black', '2', '3', '4'],\n",
    "    classes_dim: [2,2,2,2,2],\n",
    "    learning_rate: 5e-4,\n",
    "    num_epochs: 10,\n",
    "    batch_size: 128\n",
    "}"
   ]
  },
  {
   "cell_type": "markdown",
   "metadata": {},
   "source": [
    "## 1 - Load Dataset"
   ]
  },
  {
   "cell_type": "code",
   "execution_count": null,
   "metadata": {},
   "outputs": [],
   "source": [
    "data_loader = None"
   ]
  },
  {
   "cell_type": "markdown",
   "metadata": {},
   "source": [
    "## 2 - Create Classifiers"
   ]
  },
  {
   "cell_type": "code",
   "execution_count": null,
   "metadata": {},
   "outputs": [],
   "source": [
    "classifiers = []\n",
    "optimizers = []\n",
    "for name, classes_dim in zip(params['attributes'], params['classes_dim']):\n",
    "    classifier = ResNet18Classifier(label_dim=params['classes_dim'])\n",
    "    optimizer = torch.optim.Adam(classifier.parameters(), lr=params['learning_rate'])\n",
    "    \n",
    "    classifies.append(classifier)\n",
    "    optimizers.append(optimizer)"
   ]
  },
  {
   "cell_type": "markdown",
   "metadata": {},
   "source": [
    "## 3 - Train "
   ]
  },
  {
   "cell_type": "code",
   "execution_count": null,
   "metadata": {},
   "outputs": [],
   "source": [
    "num_train_samples = 0\n",
    "\n",
    "train_step = 0\n",
    "train_losses = []\n",
    "train_accuracies = []\n",
    "for epoch in range(params['num_epochs']):\n",
    "    for x_batch, ws_batch in data_loader:\n",
    "        train_step += 1\n",
    "        losses = []\n",
    "        accuracies = []\n",
    "        for label_index, (classifier, optim) in enumerate(zip(classifiers, optimizers)):\n",
    "            \n",
    "            optim.zero_grad()\n",
    "            classifier.train()\n",
    "            predictions = classifier(x_batch)\n",
    "            w_true = ws_batch[label_index]\n",
    "            loss = CrossEntropyLoss()(predictions, w_true)\n",
    "            loss.backward()\n",
    "            optim.step()\n",
    "            losses.append(loss)\n",
    "            labels = w_true.max(1)[1].squeeze()\n",
    "            labels_predict = predictions.max(1)[1].squeeze()\n",
    "            acc = accuracy_score(labels, labels_predict)\n",
    "            accuracies.append(acc)\n",
    "            \n",
    "        train_losses.append(losses)\n",
    "        train_accuracies.append(accuracies)\n",
    "        loss_dict = dict(zip(params['attributes'], losses))\n",
    "        acc_dict = dict(zip(params['attributes'], accuracies))\n",
    "\n",
    "        print(\"\\r|progress: {:.2f}% | train step: {} | losses: {} | accuracies: {} |\"\n",
    "              \" | w_dkl loss: {:.4f} | class_accuracy: {:.4f} |\".format(\n",
    "            100.* train_step_i / (num_train_samples // params['batch_size'] * params['num_epochs']), train_step_i,\n",
    "                  loss_dict, acc_dict), end='')\n",
    "        if train_step_i % 100 == 0:\n",
    "            print()"
   ]
  },
  {
   "cell_type": "markdown",
   "metadata": {},
   "source": [
    "## 4 - Plot results"
   ]
  },
  {
   "cell_type": "code",
   "execution_count": null,
   "metadata": {},
   "outputs": [],
   "source": [
    "train_losses = np.array(train_losses)\n",
    "train_accuracies = np.array(train_accuracies)\n",
    "\n",
    "for i, attr in enumerate(params['attributes']):\n",
    "    plt.plot(train_losses[:, i])\n",
    "    plt.title(attr)\n",
    "    plt.ylabel('loss')\n",
    "    plt.show()\n",
    "    \n",
    "    plt.plot(train_accuracies[:, i])\n",
    "    plt.title(attr)\n",
    "    plt.ylabel('accuracy')\n",
    "    plt.show()"
   ]
  },
  {
   "cell_type": "markdown",
   "metadata": {},
   "source": [
    "## 5 - Save models"
   ]
  },
  {
   "cell_type": "code",
   "execution_count": null,
   "metadata": {},
   "outputs": [],
   "source": []
  }
 ],
 "metadata": {
  "kernelspec": {
   "display_name": "Python 3",
   "language": "python",
   "name": "python3"
  },
  "language_info": {
   "codemirror_mode": {
    "name": "ipython",
    "version": 3
   },
   "file_extension": ".py",
   "mimetype": "text/x-python",
   "name": "python",
   "nbconvert_exporter": "python",
   "pygments_lexer": "ipython3",
   "version": "3.6.3"
  }
 },
 "nbformat": 4,
 "nbformat_minor": 1
}
