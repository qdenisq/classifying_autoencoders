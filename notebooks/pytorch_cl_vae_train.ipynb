{
 "cells": [
  {
   "cell_type": "markdown",
   "metadata": {
    "collapsed": true
   },
   "source": [
    "# Basic Classifying VAE for MNIST Database"
   ]
  },
  {
   "cell_type": "code",
   "execution_count": 1,
   "metadata": {},
   "outputs": [],
   "source": [
    "from sklearn.datasets import fetch_mldata\n",
    "from sklearn.model_selection import train_test_split\n",
    "from sklearn import preprocessing\n",
    "import torch\n",
    "import pprint\n",
    "import numpy as np\n",
    "import numpy.random as random\n",
    "import datetime\n",
    "from src.pytorch_cl_vae.model import ClVaeModel\n",
    "import matplotlib.pyplot as plt\n",
    "from collections import defaultdict"
   ]
  },
  {
   "cell_type": "markdown",
   "metadata": {},
   "source": [
    "## 1 - Specify parameters for to the VAE and training"
   ]
  },
  {
   "cell_type": "code",
   "execution_count": 2,
   "metadata": {},
   "outputs": [],
   "source": [
    "params = {\n",
    "    'batch_size': 100,\n",
    "    'num_epochs': 10,\n",
    "    'latent_dim': 20,\n",
    "    'encoder_hidden_size': 512,\n",
    "    'decoder_hidden_size': 512,\n",
    "    'classifier_hidden_size': 512,\n",
    "    'vae_learning_rate': 0.0001,\n",
    "    'classifier_learning_rate': 0.0001,\n",
    "    'log_dir': '../data/logs',\n",
    "    'model_dir': '../data/models',\n",
    "    'data_dir': '../data'\n",
    "}"
   ]
  },
  {
   "cell_type": "markdown",
   "metadata": {},
   "source": [
    "## 2 - Fetch MNIST"
   ]
  },
  {
   "cell_type": "code",
   "execution_count": 3,
   "metadata": {},
   "outputs": [
    {
     "name": "stdout",
     "output_type": "stream",
     "text": [
      "MNIST db has been successfully loaded, stored in the: \"../data/mldata\"\n",
      "| Train subset shape:(63000, 784) | Test subset shape:(7000, 784) |\n"
     ]
    }
   ],
   "source": [
    "mnist = fetch_mldata('MNIST original', data_home=params['data_dir'])\n",
    "mnist.data = mnist.data / 255\n",
    "num_samples, input_dim = mnist.data.shape\n",
    "num_classes = len(np.unique(mnist.target))\n",
    "lb = preprocessing.LabelBinarizer()\n",
    "lb.fit(mnist.target)\n",
    "params['classes_dim'] = [num_classes]\n",
    "params['original_dim'] = input_dim\n",
    "print('MNIST db has been successfully loaded, stored in the: \"{}\"'.format(params['data_dir'] + '/mldata'))\n",
    "# split data to train and test subsets\n",
    "X_train, X_test, y_train, y_test = train_test_split(mnist.data, mnist.target, test_size=0.1, random_state=0)\n",
    "print(\"| Train subset shape:{} | Test subset shape:{} |\".format(X_train.shape, X_test.shape))"
   ]
  },
  {
   "cell_type": "markdown",
   "metadata": {},
   "source": [
    "## 3 - Create Model"
   ]
  },
  {
   "cell_type": "code",
   "execution_count": 4,
   "metadata": {},
   "outputs": [
    {
     "name": "stdout",
     "output_type": "stream",
     "text": [
      "Model successfully initialized with params: \n",
      "{   'batch_size': 100,\n",
      "    'classes_dim': [10],\n",
      "    'classifier_hidden_size': 512,\n",
      "    'classifier_learning_rate': 0.0001,\n",
      "    'data_dir': '../data',\n",
      "    'decoder_hidden_size': 512,\n",
      "    'encoder_hidden_size': 512,\n",
      "    'latent_dim': 20,\n",
      "    'log_dir': '../data/logs',\n",
      "    'model_dir': '../data/models',\n",
      "    'num_epochs': 10,\n",
      "    'original_dim': 784,\n",
      "    'vae_learning_rate': 0.0001}\n"
     ]
    }
   ],
   "source": [
    "# Initialize ClVaeModel\n",
    "model = ClVaeModel(**params)\n",
    "print(\"Model successfully initialized with params: \")\n",
    "pprint.PrettyPrinter(indent=4).pprint(params)\n",
    "\n",
    "train_losses = []\n",
    "train_accuracies = []"
   ]
  },
  {
   "cell_type": "markdown",
   "metadata": {},
   "source": [
    "## 4 - Train"
   ]
  },
  {
   "cell_type": "code",
   "execution_count": 5,
   "metadata": {
    "scrolled": false
   },
   "outputs": [
    {
     "name": "stdout",
     "output_type": "stream",
     "text": [
      "\n",
      "epoch 1 out of 10\n",
      "|train step: 100 | rec loss: 194.1559 | z_dkl loss: 2.5864 | class loss: 2.2220 | w_dkl loss: 0.0992 | class_accuracy: 0.2700 |\n",
      "|train step: 200 | rec loss: 184.0654 | z_dkl loss: 4.1617 | class loss: 2.2219 | w_dkl loss: 0.1114 | class_accuracy: 0.2700 |\n",
      "|train step: 300 | rec loss: 169.0450 | z_dkl loss: 7.0289 | class loss: 2.1905 | w_dkl loss: 0.0777 | class_accuracy: 0.3700 |\n",
      "|train step: 400 | rec loss: 146.7113 | z_dkl loss: 9.6812 | class loss: 2.2130 | w_dkl loss: 0.0741 | class_accuracy: 0.3200 ||\n",
      "|train step: 500 | rec loss: 146.3992 | z_dkl loss: 10.6667 | class loss: 2.1887 | w_dkl loss: 0.0628 | class_accuracy: 0.3800 |\n",
      "|train step: 600 | rec loss: 138.3581 | z_dkl loss: 10.8554 | class loss: 2.2142 | w_dkl loss: 0.0697 | class_accuracy: 0.3200 |\n",
      "|train step: 630 | rec loss: 140.5607 | z_dkl loss: 9.6371 | class loss: 2.2063 | w_dkl loss: 0.0698 | class_accuracy: 0.3500 ||\n",
      "epoch 2 out of 10\n",
      "|train step: 700 | rec loss: 140.8935 | z_dkl loss: 11.6892 | class loss: 2.2189 | w_dkl loss: 0.0681 | class_accuracy: 0.3200 |\n",
      "|train step: 800 | rec loss: 130.2013 | z_dkl loss: 11.6792 | class loss: 2.2194 | w_dkl loss: 0.0714 | class_accuracy: 0.2900 |\n",
      "|train step: 900 | rec loss: 132.6309 | z_dkl loss: 12.0484 | class loss: 2.1803 | w_dkl loss: 0.0547 | class_accuracy: 0.4000 |\n",
      "|train step: 1000 | rec loss: 130.8076 | z_dkl loss: 13.1787 | class loss: 2.1912 | w_dkl loss: 0.0618 | class_accuracy: 0.3700 |\n",
      "|train step: 1100 | rec loss: 125.1513 | z_dkl loss: 13.1036 | class loss: 2.2222 | w_dkl loss: 0.0692 | class_accuracy: 0.3100 |\n",
      "|train step: 1200 | rec loss: 117.6952 | z_dkl loss: 13.6255 | class loss: 2.2029 | w_dkl loss: 0.0315 | class_accuracy: 0.3300 |\n",
      "|train step: 1260 | rec loss: 121.1732 | z_dkl loss: 13.5688 | class loss: 2.2037 | w_dkl loss: 0.0390 | class_accuracy: 0.3200 |\n",
      "epoch 3 out of 10\n",
      "|train step: 1300 | rec loss: 114.0692 | z_dkl loss: 14.6297 | class loss: 2.2109 | w_dkl loss: 0.0340 | class_accuracy: 0.3300 |\n",
      "|train step: 1400 | rec loss: 121.3212 | z_dkl loss: 13.6698 | class loss: 2.2191 | w_dkl loss: 0.0444 | class_accuracy: 0.3000 |\n",
      "|train step: 1500 | rec loss: 119.6285 | z_dkl loss: 14.9048 | class loss: 2.1925 | w_dkl loss: 0.0419 | class_accuracy: 0.3700 |\n",
      "|train step: 1600 | rec loss: 111.1569 | z_dkl loss: 14.6274 | class loss: 2.2094 | w_dkl loss: 0.0335 | class_accuracy: 0.3400 |\n",
      "|train step: 1700 | rec loss: 114.0889 | z_dkl loss: 15.1300 | class loss: 2.2012 | w_dkl loss: 0.0389 | class_accuracy: 0.3100 |\n",
      "|train step: 1800 | rec loss: 111.7064 | z_dkl loss: 16.1038 | class loss: 2.1966 | w_dkl loss: 0.0489 | class_accuracy: 0.3800 |\n",
      "|train step: 1890 | rec loss: 107.3359 | z_dkl loss: 15.3901 | class loss: 2.1896 | w_dkl loss: 0.0374 | class_accuracy: 0.3600 |\n",
      "epoch 4 out of 10\n",
      "|train step: 1900 | rec loss: 104.4528 | z_dkl loss: 15.3562 | class loss: 2.1976 | w_dkl loss: 0.0388 | class_accuracy: 0.3100 |\n",
      "|train step: 2000 | rec loss: 110.9901 | z_dkl loss: 16.3090 | class loss: 2.2018 | w_dkl loss: 0.0412 | class_accuracy: 0.2700 |\n",
      "|train step: 2100 | rec loss: 106.7564 | z_dkl loss: 15.3668 | class loss: 2.2288 | w_dkl loss: 0.0402 | class_accuracy: 0.2700 |\n",
      "|train step: 2200 | rec loss: 105.1112 | z_dkl loss: 16.9999 | class loss: 2.2195 | w_dkl loss: 0.0324 | class_accuracy: 0.2900 |\n",
      "|train step: 2300 | rec loss: 108.7787 | z_dkl loss: 15.8479 | class loss: 2.2222 | w_dkl loss: 0.0259 | class_accuracy: 0.2900 |\n",
      "|train step: 2400 | rec loss: 98.1610 | z_dkl loss: 17.6597 | class loss: 2.2125 | w_dkl loss: 0.0333 | class_accuracy: 0.3000 ||\n",
      "|train step: 2500 | rec loss: 104.9248 | z_dkl loss: 17.5709 | class loss: 2.1672 | w_dkl loss: 0.0433 | class_accuracy: 0.4600 |\n",
      "|train step: 2520 | rec loss: 103.7929 | z_dkl loss: 17.4973 | class loss: 2.1900 | w_dkl loss: 0.0416 | class_accuracy: 0.3700 |\n",
      "epoch 5 out of 10\n",
      "|train step: 2600 | rec loss: 102.5877 | z_dkl loss: 17.3605 | class loss: 2.1925 | w_dkl loss: 0.0215 | class_accuracy: 0.3400 |\n",
      "|train step: 2700 | rec loss: 107.2853 | z_dkl loss: 18.1758 | class loss: 2.1615 | w_dkl loss: 0.0437 | class_accuracy: 0.4100 |\n",
      "|train step: 2800 | rec loss: 98.1062 | z_dkl loss: 17.8325 | class loss: 2.1922 | w_dkl loss: 0.0470 | class_accuracy: 0.3100 ||\n",
      "|train step: 2900 | rec loss: 100.2882 | z_dkl loss: 17.3518 | class loss: 2.1775 | w_dkl loss: 0.0343 | class_accuracy: 0.3600 |\n",
      "|train step: 3000 | rec loss: 97.2782 | z_dkl loss: 17.4403 | class loss: 2.1914 | w_dkl loss: 0.0258 | class_accuracy: 0.3900 ||\n",
      "|train step: 3100 | rec loss: 101.6359 | z_dkl loss: 17.7531 | class loss: 2.1969 | w_dkl loss: 0.0379 | class_accuracy: 0.3600 |\n",
      "|train step: 3150 | rec loss: 92.6882 | z_dkl loss: 17.6224 | class loss: 2.2051 | w_dkl loss: 0.0284 | class_accuracy: 0.3300 ||\n",
      "epoch 6 out of 10\n",
      "|train step: 3200 | rec loss: 94.1575 | z_dkl loss: 17.3105 | class loss: 2.1822 | w_dkl loss: 0.0252 | class_accuracy: 0.4100 ||\n",
      "|train step: 3300 | rec loss: 90.3305 | z_dkl loss: 16.0840 | class loss: 2.2060 | w_dkl loss: 0.0247 | class_accuracy: 0.3900 ||\n",
      "|train step: 3400 | rec loss: 100.0173 | z_dkl loss: 17.2564 | class loss: 2.2113 | w_dkl loss: 0.0223 | class_accuracy: 0.3100 |\n",
      "|train step: 3500 | rec loss: 95.3040 | z_dkl loss: 18.6135 | class loss: 2.2012 | w_dkl loss: 0.0305 | class_accuracy: 0.3500 ||\n",
      "|train step: 3600 | rec loss: 93.8214 | z_dkl loss: 17.8252 | class loss: 2.1795 | w_dkl loss: 0.0265 | class_accuracy: 0.3500 ||\n",
      "|train step: 3700 | rec loss: 92.4836 | z_dkl loss: 18.0253 | class loss: 2.1826 | w_dkl loss: 0.0268 | class_accuracy: 0.3800 ||\n",
      "|train step: 3780 | rec loss: 89.9098 | z_dkl loss: 18.1588 | class loss: 2.1787 | w_dkl loss: 0.0247 | class_accuracy: 0.3600 ||\n",
      "epoch 7 out of 10\n",
      "|train step: 3800 | rec loss: 90.5851 | z_dkl loss: 17.5162 | class loss: 2.1822 | w_dkl loss: 0.0264 | class_accuracy: 0.3600 ||\n",
      "|train step: 3900 | rec loss: 91.9399 | z_dkl loss: 18.1641 | class loss: 2.1996 | w_dkl loss: 0.0330 | class_accuracy: 0.3500 ||\n",
      "|train step: 4000 | rec loss: 89.6036 | z_dkl loss: 18.5345 | class loss: 2.1626 | w_dkl loss: 0.0260 | class_accuracy: 0.4400 ||\n",
      "|train step: 4100 | rec loss: 89.3730 | z_dkl loss: 18.2219 | class loss: 2.1803 | w_dkl loss: 0.0210 | class_accuracy: 0.3800 ||\n",
      "|train step: 4200 | rec loss: 92.2823 | z_dkl loss: 18.1845 | class loss: 2.2044 | w_dkl loss: 0.0265 | class_accuracy: 0.3400 ||\n",
      "|train step: 4300 | rec loss: 94.2068 | z_dkl loss: 19.1589 | class loss: 2.1765 | w_dkl loss: 0.0251 | class_accuracy: 0.4000 |\n",
      "|train step: 4400 | rec loss: 92.5006 | z_dkl loss: 18.6897 | class loss: 2.1872 | w_dkl loss: 0.0189 | class_accuracy: 0.3600 |\n",
      "|train step: 4410 | rec loss: 93.3726 | z_dkl loss: 18.3818 | class loss: 2.1934 | w_dkl loss: 0.0237 | class_accuracy: 0.3700 |\n",
      "epoch 8 out of 10\n",
      "|train step: 4500 | rec loss: 92.2929 | z_dkl loss: 18.6186 | class loss: 2.1907 | w_dkl loss: 0.0258 | class_accuracy: 0.3200 ||\n",
      "|train step: 4600 | rec loss: 92.0550 | z_dkl loss: 18.4454 | class loss: 2.1899 | w_dkl loss: 0.0407 | class_accuracy: 0.3600 ||\n",
      "|train step: 4700 | rec loss: 88.9679 | z_dkl loss: 18.9363 | class loss: 2.2040 | w_dkl loss: 0.0239 | class_accuracy: 0.3300 ||\n",
      "|train step: 4800 | rec loss: 93.9948 | z_dkl loss: 18.1591 | class loss: 2.1752 | w_dkl loss: 0.0288 | class_accuracy: 0.3900 |\n",
      "|train step: 4900 | rec loss: 91.3752 | z_dkl loss: 19.0029 | class loss: 2.2367 | w_dkl loss: 0.0270 | class_accuracy: 0.2300 |\n",
      "|train step: 5000 | rec loss: 86.2905 | z_dkl loss: 18.1995 | class loss: 2.1756 | w_dkl loss: 0.0252 | class_accuracy: 0.3900 |\n",
      "|train step: 5040 | rec loss: 88.2256 | z_dkl loss: 18.8238 | class loss: 2.1794 | w_dkl loss: 0.0227 | class_accuracy: 0.3200 |\n",
      "epoch 9 out of 10\n",
      "|train step: 5100 | rec loss: 93.3911 | z_dkl loss: 19.3217 | class loss: 2.2081 | w_dkl loss: 0.0210 | class_accuracy: 0.3200 |\n",
      "|train step: 5200 | rec loss: 87.7097 | z_dkl loss: 18.2173 | class loss: 2.1678 | w_dkl loss: 0.0194 | class_accuracy: 0.3600 |\n",
      "|train step: 5300 | rec loss: 91.0975 | z_dkl loss: 18.9042 | class loss: 2.1849 | w_dkl loss: 0.0216 | class_accuracy: 0.3700 |\n"
     ]
    },
    {
     "name": "stdout",
     "output_type": "stream",
     "text": [
      "|train step: 5400 | rec loss: 90.0631 | z_dkl loss: 18.1426 | class loss: 2.1886 | w_dkl loss: 0.0188 | class_accuracy: 0.3500 |\n",
      "|train step: 5500 | rec loss: 83.9149 | z_dkl loss: 18.7142 | class loss: 2.1906 | w_dkl loss: 0.0239 | class_accuracy: 0.3900 |\n",
      "|train step: 5600 | rec loss: 91.5578 | z_dkl loss: 19.9001 | class loss: 2.2062 | w_dkl loss: 0.0200 | class_accuracy: 0.3400 |\n",
      "|train step: 5670 | rec loss: 86.2346 | z_dkl loss: 18.5304 | class loss: 2.1721 | w_dkl loss: 0.0201 | class_accuracy: 0.4100 |\n",
      "epoch 10 out of 10\n",
      "|train step: 5700 | rec loss: 87.9154 | z_dkl loss: 19.6143 | class loss: 2.2092 | w_dkl loss: 0.0221 | class_accuracy: 0.3300 |\n",
      "|train step: 5800 | rec loss: 87.9392 | z_dkl loss: 18.9496 | class loss: 2.1930 | w_dkl loss: 0.0234 | class_accuracy: 0.3700 |\n",
      "|train step: 5900 | rec loss: 87.7468 | z_dkl loss: 20.1799 | class loss: 2.1585 | w_dkl loss: 0.0224 | class_accuracy: 0.4300 |\n",
      "|train step: 6000 | rec loss: 90.1038 | z_dkl loss: 19.0912 | class loss: 2.2184 | w_dkl loss: 0.0166 | class_accuracy: 0.2500 |\n",
      "|train step: 6100 | rec loss: 89.6902 | z_dkl loss: 19.0091 | class loss: 2.1979 | w_dkl loss: 0.0219 | class_accuracy: 0.3500 |\n",
      "|train step: 6200 | rec loss: 88.5562 | z_dkl loss: 19.4249 | class loss: 2.1648 | w_dkl loss: 0.0223 | class_accuracy: 0.4400 |\n",
      "|train step: 6300 | rec loss: 89.6273 | z_dkl loss: 19.1639 | class loss: 2.1973 | w_dkl loss: 0.0196 | class_accuracy: 0.3100 |\n",
      "*****Finished with the final loss:  Losses(rec_loss=tensor(89.6273, grad_fn=<DivBackward0>), z_dkl_loss=tensor(19.1639, grad_fn=<DivBackward0>), class_loss_0=tensor(2.1973, grad_fn=<NllLossBackward>), w_dkl_loss_0=tensor(0.0196, grad_fn=<DivBackward0>))\n"
     ]
    }
   ],
   "source": [
    "save_each_steps = 500\n",
    "\n",
    "# Train loop\n",
    "train_step_i = 0\n",
    "for epoch in range(params['num_epochs']):\n",
    "    print('\\nepoch {} out of {}'.format(epoch + 1, params['num_epochs']))\n",
    "    for i in range(X_train.shape[0] // params['batch_size']):\n",
    "        # Sample batch\n",
    "        idx = random.choice(np.arange(0, X_train.shape[0]), params['batch_size'])\n",
    "        x_batch = torch.from_numpy(X_train[idx]).float()\n",
    "        y_batch = lb.transform(y_train[idx])\n",
    "        y_batch = [torch.from_numpy(y_batch).float()]\n",
    "        step_losses, step_accuracies = model.train_step(x_batch, y_batch)\n",
    "\n",
    "#         step_losses = [loss.sum().detach().numpy() for loss in step_losses]\n",
    "        # step_losses = Losses(*step_losses)\n",
    "        # step_accuracies = Accuracies(*step_accuracies)\n",
    "\n",
    "        train_losses.append(step_losses)\n",
    "        train_accuracies.append(step_accuracies)\n",
    "\n",
    "        train_step_i += 1\n",
    "\n",
    "        print(\"\\r|train step: {} | rec loss: {:.4f} | z_dkl loss: {:.4f} | class loss: {:.4f}\"\n",
    "              \" | w_dkl loss: {:.4f} | class_accuracy: {:.4f} |\".format(\n",
    "            train_step_i, *step_losses, *step_accuracies\n",
    "            ), end='')\n",
    "        if train_step_i % 100 == 0:\n",
    "            print()\n",
    "        if train_step_i % save_each_steps == 0:\n",
    "            dt = str(datetime.datetime.now().strftime(\"%m_%d_%Y_%I_%M_%p\"))\n",
    "            fname = params['model_dir'] + '/cl_vae_mnist_{}.pt'.format(dt)\n",
    "            model.save_ckpt(fname)\n",
    "print('*****Finished with the final loss: ', step_losses)"
   ]
  },
  {
   "cell_type": "markdown",
   "metadata": {},
   "source": [
    "## 5 - Show losses graph"
   ]
  },
  {
   "cell_type": "code",
   "execution_count": 6,
   "metadata": {
    "scrolled": false
   },
   "outputs": [
    {
     "name": "stdout",
     "output_type": "stream",
     "text": [
      "('rec_loss', 'z_dkl_loss', 'class_loss_0', 'w_dkl_loss_0')\n",
      "tensor(0.6944, grad_fn=<BinaryCrossEntropyBackward>) tensor(0.0288, grad_fn=<DivBackward0>) tensor(2.3071, grad_fn=<NllLossBackward>) tensor(0.4588, grad_fn=<DivBackward0>)\n"
     ]
    },
    {
     "data": {
      "image/png": "[encoded data removed]",
      "text/plain": [
       "<matplotlib.figure.Figure at 0x2e448828>"
      ]
     },
     "metadata": {},
     "output_type": "display_data"
    },
    {
     "data": {
      "image/png": "[encoded data removed]",
      "text/plain": [
       "<matplotlib.figure.Figure at 0x4db8ae10>"
      ]
     },
     "metadata": {},
     "output_type": "display_data"
    },
    {
     "data": {
      "image/png": "[encoded data removed]",
      "text/plain": [
       "<matplotlib.figure.Figure at 0x4f1204a8>"
      ]
     },
     "metadata": {},
     "output_type": "display_data"
    },
    {
     "data": {
      "image/png": "[encoded data removed]",
      "text/plain": [
       "<matplotlib.figure.Figure at 0x4f15bb70>"
      ]
     },
     "metadata": {},
     "output_type": "display_data"
    }
   ],
   "source": [
    "%matplotlib inline\n",
    "losses = defaultdict(list)\n",
    "losses_names = train_losses[0]._fields\n",
    "print(losses_names)\n",
    "step_loss = train_losses[0]\n",
    "print(*step_loss)\n",
    "for i, loss_name in enumerate(losses_names):\n",
    "    losses[loss_name] = [l[i] for l in train_losses]\n",
    "    plt.figure()\n",
    "    plt.title(loss_name)\n",
    "    plt.plot(losses[loss_name])\n",
    "    plt.legend()\n",
    "plt.show()"
   ]
  },
  {
   "cell_type": "markdown",
   "metadata": {},
   "source": [
    "## 6 - Test"
   ]
  },
  {
   "cell_type": "code",
   "execution_count": 7,
   "metadata": {
    "scrolled": true
   },
   "outputs": [
    {
     "name": "stdout",
     "output_type": "stream",
     "text": [
      "Losses(rec_loss=tensor(0.2667), z_dkl_loss=tensor(0.0654), class_loss_0=tensor(2.3070), w_dkl_loss_0=tensor(0.1143))\n"
     ]
    }
   ],
   "source": [
    "y_test = lb.transform(y_test)\n",
    "losses, acc = model.test(torch.from_numpy(X_test).float(), [torch.from_numpy(y_test).float()])\n",
    "pprint.PrettyPrinter(indent=4).pprint(losses)"
   ]
  },
  {
   "cell_type": "markdown",
   "metadata": {},
   "source": [
    "## 7 - Examples"
   ]
  },
  {
   "cell_type": "code",
   "execution_count": null,
   "metadata": {},
   "outputs": [],
   "source": [
    "#TODO\n",
    "\n"
   ]
  }
 ],
 "metadata": {
  "kernelspec": {
   "display_name": "Python 3",
   "language": "python",
   "name": "python3"
  },
  "language_info": {
   "codemirror_mode": {
    "name": "ipython",
    "version": 3
   },
   "file_extension": ".py",
   "mimetype": "text/x-python",
   "name": "python",
   "nbconvert_exporter": "python",
   "pygments_lexer": "ipython3",
   "version": "3.6.3"
  }
 },
 "nbformat": 4,
 "nbformat_minor": 1
}
