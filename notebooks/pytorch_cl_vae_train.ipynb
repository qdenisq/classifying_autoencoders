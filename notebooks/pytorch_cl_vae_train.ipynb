{
 "cells": [
  {
   "cell_type": "markdown",
   "metadata": {
    "collapsed": true
   },
   "source": [
    "# Basic Classifying VAE for MNIST Database"
   ]
  },
  {
   "cell_type": "code",
   "execution_count": 1,
   "metadata": {},
   "outputs": [
    {
     "name": "stdout",
     "output_type": "stream",
     "text": [
      "Current working dir:  /home/seanny/classifying_autoencoders/notebooks\n",
      "Initial path:  ['', '/home/seanny/catkin_ws/devel/lib/python2.7/dist-packages', '/opt/ros/kinetic/lib/python2.7/dist-packages', '/home/seanny/anaconda2/envs/python3.5/lib/python35.zip', '/home/seanny/anaconda2/envs/python3.5/lib/python3.5', '/home/seanny/anaconda2/envs/python3.5/lib/python3.5/plat-linux', '/home/seanny/anaconda2/envs/python3.5/lib/python3.5/lib-dynload', '/home/seanny/.local/lib/python3.5/site-packages', '/home/seanny/anaconda2/envs/python3.5/lib/python3.5/site-packages', '/home/seanny/roboschool', '/home/seanny/DeepRL', '/home/seanny/gym-aero', '/home/seanny/baselines', '/home/seanny/anaconda2/envs/python3.5/lib/python3.5/site-packages/IPython/extensions', '/home/seanny/.ipython']\n",
      "\n",
      "Updated path:  ['', '/home/seanny/catkin_ws/devel/lib/python2.7/dist-packages', '/opt/ros/kinetic/lib/python2.7/dist-packages', '/home/seanny/anaconda2/envs/python3.5/lib/python35.zip', '/home/seanny/anaconda2/envs/python3.5/lib/python3.5', '/home/seanny/anaconda2/envs/python3.5/lib/python3.5/plat-linux', '/home/seanny/anaconda2/envs/python3.5/lib/python3.5/lib-dynload', '/home/seanny/.local/lib/python3.5/site-packages', '/home/seanny/anaconda2/envs/python3.5/lib/python3.5/site-packages', '/home/seanny/roboschool', '/home/seanny/DeepRL', '/home/seanny/gym-aero', '/home/seanny/baselines', '/home/seanny/anaconda2/envs/python3.5/lib/python3.5/site-packages/IPython/extensions', '/home/seanny/.ipython', '../']\n",
      "\n",
      "PyTorch Version  0.4.0\n"
     ]
    }
   ],
   "source": [
    "from sklearn.datasets import fetch_mldata\n",
    "from sklearn.model_selection import train_test_split\n",
    "from sklearn import preprocessing\n",
    "import torch\n",
    "import pprint\n",
    "import numpy as np\n",
    "import numpy.random as random\n",
    "import datetime\n",
    "import matplotlib.pyplot as plt\n",
    "from collections import defaultdict\n",
    "\n",
    "import os\n",
    "import sys\n",
    "print(\"Current working dir: \", os.getcwd())\n",
    "print(\"Initial path: \", sys.path)\n",
    "sys.path.append(\"../\")\n",
    "print()\n",
    "print(\"Updated path: \", sys.path)\n",
    "from src.pytorch_cl_vae.model import ClVaeModel\n",
    "print()\n",
    "print(\"PyTorch Version \", torch.__version__)"
   ]
  },
  {
   "cell_type": "markdown",
   "metadata": {},
   "source": [
    "## 1 - Specify parameters for to the VAE and training"
   ]
  },
  {
   "cell_type": "code",
   "execution_count": 2,
   "metadata": {},
   "outputs": [],
   "source": [
    "params = {\n",
    "    'batch_size': 100,\n",
    "    'num_epochs': 10,\n",
    "    'latent_dim': 20,\n",
    "    'encoder_hidden_size': 512,\n",
    "    'decoder_hidden_size': 512,\n",
    "    'classifier_hidden_size': 512,\n",
    "    'vae_learning_rate': 0.0001,\n",
    "    'classifier_learning_rate': 0.0001,\n",
    "    'log_dir': '../data/logs',\n",
    "    'model_dir': '../data/models',\n",
    "    'data_dir': '../data'\n",
    "}"
   ]
  },
  {
   "cell_type": "markdown",
   "metadata": {},
   "source": [
    "## 2 - Fetch MNIST"
   ]
  },
  {
   "cell_type": "code",
   "execution_count": 3,
   "metadata": {},
   "outputs": [
    {
     "name": "stdout",
     "output_type": "stream",
     "text": [
      "MNIST db has been successfully loaded, stored in the: \"../data/mldata\"\n",
      "| Train subset shape:(63000, 784) | Test subset shape:(7000, 784) |\n"
     ]
    }
   ],
   "source": [
    "mnist = fetch_mldata('MNIST original', data_home=params['data_dir'])\n",
    "mnist.data = mnist.data / 255\n",
    "num_samples, input_dim = mnist.data.shape\n",
    "num_classes = len(np.unique(mnist.target))\n",
    "lb = preprocessing.LabelBinarizer()\n",
    "lb.fit(mnist.target)\n",
    "params['classes_dim'] = [num_classes]\n",
    "params['original_dim'] = input_dim\n",
    "print('MNIST db has been successfully loaded, stored in the: \"{}\"'.format(params['data_dir'] + '/mldata'))\n",
    "# split data to train and test subsets\n",
    "X_train, X_test, y_train, y_test = train_test_split(mnist.data, mnist.target, test_size=0.1, random_state=0)\n",
    "print(\"| Train subset shape:{} | Test subset shape:{} |\".format(X_train.shape, X_test.shape))"
   ]
  },
  {
   "cell_type": "markdown",
   "metadata": {},
   "source": [
    "## 3 - Create Model"
   ]
  },
  {
   "cell_type": "code",
   "execution_count": 4,
   "metadata": {},
   "outputs": [
    {
     "name": "stdout",
     "output_type": "stream",
     "text": [
      "Model successfully initialized with params: \n",
      "{   'batch_size': 100,\n",
      "    'classes_dim': [10],\n",
      "    'classifier_hidden_size': 512,\n",
      "    'classifier_learning_rate': 0.0001,\n",
      "    'data_dir': '../data',\n",
      "    'decoder_hidden_size': 512,\n",
      "    'device': 'cuda:0',\n",
      "    'encoder_hidden_size': 512,\n",
      "    'latent_dim': 20,\n",
      "    'log_dir': '../data/logs',\n",
      "    'model_dir': '../data/models',\n",
      "    'num_epochs': 10,\n",
      "    'original_dim': 784,\n",
      "    'vae_learning_rate': 0.0001}\n",
      "\n",
      "\n",
      "Network Architecture:\n",
      "\n",
      "<src.pytorch_cl_vae.model.ClVaeModel object at 0x7fa8cb450898>\n"
     ]
    }
   ],
   "source": [
    "# Initialize ClVaeModel\n",
    "dev = \"cuda:0\" if torch.cuda.is_available() else \"cpu\"\n",
    "params['device'] = dev\n",
    "model = ClVaeModel(**params)\n",
    "print(\"Model successfully initialized with params: \")\n",
    "pprint.PrettyPrinter(indent=4).pprint(params)\n",
    "print()\n",
    "print()\n",
    "print(\"Network Architecture:\")\n",
    "print()\n",
    "print(model)\n",
    "\n",
    "train_losses = []\n",
    "train_accuracies = []"
   ]
  },
  {
   "cell_type": "markdown",
   "metadata": {},
   "source": [
    "## 4 - Train"
   ]
  },
  {
   "cell_type": "code",
   "execution_count": 8,
   "metadata": {
    "scrolled": false
   },
   "outputs": [
    {
     "name": "stdout",
     "output_type": "stream",
     "text": [
      "\n",
      "epoch 1 out of 10\n",
      "|train step: 100 | rec loss: 0.2187 | z_dkl loss: 0.0214 | class loss: 1.9354 | w_dkl loss: 0.1189 | class_accuracy: 0.7200 |\n",
      "|train step: 200 | rec loss: 0.2046 | z_dkl loss: 0.0039 | class loss: 1.8902 | w_dkl loss: 0.1161 | class_accuracy: 0.8200 |\n",
      "|train step: 300 | rec loss: 0.2177 | z_dkl loss: 0.0018 | class loss: 1.8692 | w_dkl loss: 0.1506 | class_accuracy: 0.8100 |\n",
      "|train step: 400 | rec loss: 0.2042 | z_dkl loss: 0.0018 | class loss: 1.8947 | w_dkl loss: 0.0939 | class_accuracy: 0.8100 |\n",
      "|train step: 500 | rec loss: 0.1953 | z_dkl loss: 0.0016 | class loss: 1.8339 | w_dkl loss: 0.0575 | class_accuracy: 0.8600 |\n",
      "|train step: 600 | rec loss: 0.2106 | z_dkl loss: 0.0006 | class loss: 1.8499 | w_dkl loss: 0.1660 | class_accuracy: 0.8200 |\n",
      "|train step: 630 | rec loss: 0.2071 | z_dkl loss: 0.0038 | class loss: 1.8932 | w_dkl loss: 0.1065 | class_accuracy: 0.8000 |\n",
      "epoch 2 out of 10\n",
      "|train step: 700 | rec loss: 0.2036 | z_dkl loss: 0.0017 | class loss: 1.8594 | w_dkl loss: 0.0615 | class_accuracy: 0.8100 |\n",
      "|train step: 800 | rec loss: 0.1989 | z_dkl loss: 0.0141 | class loss: 1.8463 | w_dkl loss: 0.1001 | class_accuracy: 0.8500 |\n",
      "|train step: 900 | rec loss: 0.2165 | z_dkl loss: 0.0005 | class loss: 1.8802 | w_dkl loss: 0.0821 | class_accuracy: 0.8200 |\n",
      "|train step: 1000 | rec loss: 0.2172 | z_dkl loss: 0.0337 | class loss: 1.8347 | w_dkl loss: 0.1106 | class_accuracy: 0.8500 |\n",
      "|train step: 1100 | rec loss: 0.2145 | z_dkl loss: 0.0008 | class loss: 1.9089 | w_dkl loss: 0.1319 | class_accuracy: 0.7400 |\n",
      "|train step: 1200 | rec loss: 0.2058 | z_dkl loss: 0.0032 | class loss: 1.9151 | w_dkl loss: 0.1514 | class_accuracy: 0.7900 |\n",
      "|train step: 1260 | rec loss: 0.2066 | z_dkl loss: 0.0269 | class loss: 1.8678 | w_dkl loss: 0.1720 | class_accuracy: 0.8100 |\n",
      "epoch 3 out of 10\n",
      "|train step: 1300 | rec loss: 0.2107 | z_dkl loss: 0.0027 | class loss: 1.8693 | w_dkl loss: 0.1612 | class_accuracy: 0.8100 |\n",
      "|train step: 1400 | rec loss: 0.2005 | z_dkl loss: 0.0202 | class loss: 1.8140 | w_dkl loss: 0.1930 | class_accuracy: 0.8600 |\n",
      "|train step: 1500 | rec loss: 0.2051 | z_dkl loss: 0.0034 | class loss: 1.8909 | w_dkl loss: 0.1385 | class_accuracy: 0.7800 |\n",
      "|train step: 1600 | rec loss: 0.2056 | z_dkl loss: 0.0081 | class loss: 1.9036 | w_dkl loss: 0.0744 | class_accuracy: 0.7700 |\n",
      "|train step: 1700 | rec loss: 0.2135 | z_dkl loss: 0.0146 | class loss: 1.8838 | w_dkl loss: 0.2073 | class_accuracy: 0.7900 |\n",
      "|train step: 1800 | rec loss: 0.2086 | z_dkl loss: 0.0012 | class loss: 1.8608 | w_dkl loss: 0.0948 | class_accuracy: 0.8100 |\n",
      "|train step: 1890 | rec loss: 0.2067 | z_dkl loss: 0.0013 | class loss: 1.8675 | w_dkl loss: 0.0553 | class_accuracy: 0.8100 |\n",
      "epoch 4 out of 10\n",
      "|train step: 1900 | rec loss: 0.2046 | z_dkl loss: 0.0069 | class loss: 1.8387 | w_dkl loss: 0.1008 | class_accuracy: 0.8500 |\n",
      "|train step: 2000 | rec loss: 0.2043 | z_dkl loss: 0.0101 | class loss: 1.8994 | w_dkl loss: 0.1362 | class_accuracy: 0.7500 |\n",
      "|train step: 2100 | rec loss: 0.1997 | z_dkl loss: 0.0006 | class loss: 1.8642 | w_dkl loss: 0.1313 | class_accuracy: 0.7900 |\n",
      "|train step: 2200 | rec loss: 0.2004 | z_dkl loss: 0.0163 | class loss: 1.8852 | w_dkl loss: 0.0637 | class_accuracy: 0.7900 |\n",
      "|train step: 2300 | rec loss: 0.2006 | z_dkl loss: 0.0088 | class loss: 1.8676 | w_dkl loss: 0.1142 | class_accuracy: 0.7800 |\n",
      "|train step: 2400 | rec loss: 0.2080 | z_dkl loss: 0.0093 | class loss: 1.8256 | w_dkl loss: 0.0568 | class_accuracy: 0.8700 |\n",
      "|train step: 2500 | rec loss: 0.2133 | z_dkl loss: 0.0014 | class loss: 1.8817 | w_dkl loss: 0.1170 | class_accuracy: 0.7500 |\n",
      "|train step: 2520 | rec loss: 0.2053 | z_dkl loss: 0.0034 | class loss: 1.8071 | w_dkl loss: 0.1338 | class_accuracy: 0.8900 |\n",
      "epoch 5 out of 10\n",
      "|train step: 2600 | rec loss: 0.1995 | z_dkl loss: 0.0034 | class loss: 1.8634 | w_dkl loss: 0.2052 | class_accuracy: 0.8200 |\n",
      "|train step: 2700 | rec loss: 0.2010 | z_dkl loss: 0.0075 | class loss: 1.8952 | w_dkl loss: 0.0977 | class_accuracy: 0.7600 |\n",
      "|train step: 2800 | rec loss: 0.2040 | z_dkl loss: 0.0039 | class loss: 1.8065 | w_dkl loss: 0.1570 | class_accuracy: 0.8500 |\n",
      "|train step: 2900 | rec loss: 0.2020 | z_dkl loss: 0.0281 | class loss: 1.8000 | w_dkl loss: 0.1230 | class_accuracy: 0.9000 |\n",
      "|train step: 3000 | rec loss: 0.2101 | z_dkl loss: 0.0005 | class loss: 1.8487 | w_dkl loss: 0.1484 | class_accuracy: 0.8300 |\n",
      "|train step: 3100 | rec loss: 0.2143 | z_dkl loss: 0.0103 | class loss: 1.8622 | w_dkl loss: 0.1431 | class_accuracy: 0.8200 |\n",
      "|train step: 3150 | rec loss: 0.2097 | z_dkl loss: 0.0029 | class loss: 1.8857 | w_dkl loss: 0.0859 | class_accuracy: 0.8000 |\n",
      "epoch 6 out of 10\n",
      "|train step: 3200 | rec loss: 0.2025 | z_dkl loss: 0.0079 | class loss: 1.8720 | w_dkl loss: 0.0844 | class_accuracy: 0.8400 |\n",
      "|train step: 3300 | rec loss: 0.2137 | z_dkl loss: 0.0015 | class loss: 1.8526 | w_dkl loss: 0.0831 | class_accuracy: 0.8100 |\n",
      "|train step: 3400 | rec loss: 0.2055 | z_dkl loss: 0.0050 | class loss: 1.8793 | w_dkl loss: 0.0910 | class_accuracy: 0.7600 |\n",
      "|train step: 3500 | rec loss: 0.2019 | z_dkl loss: 0.0106 | class loss: 1.8695 | w_dkl loss: 0.1151 | class_accuracy: 0.8100 |\n",
      "|train step: 3600 | rec loss: 0.2076 | z_dkl loss: 0.0133 | class loss: 1.8657 | w_dkl loss: 0.0968 | class_accuracy: 0.8400 |\n",
      "|train step: 3700 | rec loss: 0.2021 | z_dkl loss: 0.0023 | class loss: 1.8678 | w_dkl loss: 0.0798 | class_accuracy: 0.8000 |\n",
      "|train step: 3780 | rec loss: 0.2105 | z_dkl loss: 0.0091 | class loss: 1.8401 | w_dkl loss: 0.0594 | class_accuracy: 0.8300 |\n",
      "epoch 7 out of 10\n",
      "|train step: 3800 | rec loss: 0.2063 | z_dkl loss: 0.0385 | class loss: 1.8772 | w_dkl loss: 0.0701 | class_accuracy: 0.7900 |\n",
      "|train step: 3900 | rec loss: 0.2167 | z_dkl loss: 0.0102 | class loss: 1.8423 | w_dkl loss: 0.0756 | class_accuracy: 0.8400 |\n",
      "|train step: 4000 | rec loss: 0.2073 | z_dkl loss: 0.0111 | class loss: 1.8312 | w_dkl loss: 0.1031 | class_accuracy: 0.8300 |\n",
      "|train step: 4100 | rec loss: 0.1997 | z_dkl loss: 0.0030 | class loss: 1.8403 | w_dkl loss: 0.1019 | class_accuracy: 0.8200 |\n",
      "|train step: 4200 | rec loss: 0.2016 | z_dkl loss: 0.0019 | class loss: 1.8159 | w_dkl loss: 0.1090 | class_accuracy: 0.8500 |\n",
      "|train step: 4300 | rec loss: 0.1938 | z_dkl loss: 0.0029 | class loss: 1.8017 | w_dkl loss: 0.0871 | class_accuracy: 0.8900 |\n",
      "|train step: 4400 | rec loss: 0.2041 | z_dkl loss: 0.0249 | class loss: 1.8732 | w_dkl loss: 0.1077 | class_accuracy: 0.8100 |\n",
      "|train step: 4410 | rec loss: 0.2047 | z_dkl loss: 0.0048 | class loss: 1.8115 | w_dkl loss: 0.0832 | class_accuracy: 0.8700 |\n",
      "epoch 8 out of 10\n",
      "|train step: 4500 | rec loss: 0.1956 | z_dkl loss: 0.0012 | class loss: 1.8279 | w_dkl loss: 0.0888 | class_accuracy: 0.8500 |\n",
      "|train step: 4600 | rec loss: 0.2068 | z_dkl loss: 0.0013 | class loss: 1.8435 | w_dkl loss: 0.0815 | class_accuracy: 0.8200 |\n",
      "|train step: 4700 | rec loss: 0.2083 | z_dkl loss: 0.0200 | class loss: 1.8840 | w_dkl loss: 0.1731 | class_accuracy: 0.7200 |\n",
      "|train step: 4800 | rec loss: 0.2039 | z_dkl loss: 0.0062 | class loss: 1.8342 | w_dkl loss: 0.0600 | class_accuracy: 0.8400 |\n",
      "|train step: 4900 | rec loss: 0.2039 | z_dkl loss: 0.0168 | class loss: 1.8737 | w_dkl loss: 0.1193 | class_accuracy: 0.7800 |\n",
      "|train step: 5000 | rec loss: 0.1965 | z_dkl loss: 0.0067 | class loss: 1.8467 | w_dkl loss: 0.1279 | class_accuracy: 0.8300 |\n",
      "|train step: 5040 | rec loss: 0.2050 | z_dkl loss: 0.0068 | class loss: 1.8443 | w_dkl loss: 0.1624 | class_accuracy: 0.8300 |\n",
      "epoch 9 out of 10\n",
      "|train step: 5100 | rec loss: 0.2015 | z_dkl loss: 0.0051 | class loss: 1.8172 | w_dkl loss: 0.2050 | class_accuracy: 0.8200 |\n",
      "|train step: 5200 | rec loss: 0.2115 | z_dkl loss: 0.0041 | class loss: 1.8740 | w_dkl loss: 0.1377 | class_accuracy: 0.8000 |\n",
      "|train step: 5300 | rec loss: 0.2042 | z_dkl loss: 0.0080 | class loss: 1.8727 | w_dkl loss: 0.0631 | class_accuracy: 0.7400 |\n",
      "|train step: 5400 | rec loss: 0.2026 | z_dkl loss: 0.0189 | class loss: 1.7981 | w_dkl loss: 0.0336 | class_accuracy: 0.8900 |\n",
      "|train step: 5500 | rec loss: 0.2132 | z_dkl loss: 0.0066 | class loss: 1.8273 | w_dkl loss: 0.2176 | class_accuracy: 0.8700 |\n"
     ]
    },
    {
     "name": "stdout",
     "output_type": "stream",
     "text": [
      "|train step: 5600 | rec loss: 0.1927 | z_dkl loss: 0.0328 | class loss: 1.7960 | w_dkl loss: 0.1186 | class_accuracy: 0.8800 |\n",
      "|train step: 5670 | rec loss: 0.1966 | z_dkl loss: 0.0038 | class loss: 1.8116 | w_dkl loss: 0.0344 | class_accuracy: 0.8700 |\n",
      "epoch 10 out of 10\n",
      "|train step: 5700 | rec loss: 0.2053 | z_dkl loss: 0.0213 | class loss: 1.8151 | w_dkl loss: 0.1076 | class_accuracy: 0.8400 |\n",
      "|train step: 5800 | rec loss: 0.2000 | z_dkl loss: 0.0060 | class loss: 1.8130 | w_dkl loss: 0.0371 | class_accuracy: 0.8400 |\n",
      "|train step: 5900 | rec loss: 0.2014 | z_dkl loss: 0.0023 | class loss: 1.8609 | w_dkl loss: 0.0584 | class_accuracy: 0.7700 |\n",
      "|train step: 6000 | rec loss: 0.1979 | z_dkl loss: 0.0045 | class loss: 1.8246 | w_dkl loss: 0.1265 | class_accuracy: 0.8600 |\n",
      "|train step: 6100 | rec loss: 0.2027 | z_dkl loss: 0.0181 | class loss: 1.8393 | w_dkl loss: 0.0962 | class_accuracy: 0.8100 |\n",
      "|train step: 6200 | rec loss: 0.1983 | z_dkl loss: 0.0024 | class loss: 1.8078 | w_dkl loss: 0.0918 | class_accuracy: 0.8300 |\n",
      "|train step: 6300 | rec loss: 0.1939 | z_dkl loss: 0.0063 | class loss: 1.7979 | w_dkl loss: 0.1724 | class_accuracy: 0.8700 |\n",
      "*****Finished with the final loss:  Losses(rec_loss=tensor(0.1939, device='cuda:0'), z_dkl_loss=tensor(1.00000e-03 *\n",
      "       6.3226, device='cuda:0'), class_loss_0=tensor(1.7979, device='cuda:0'), w_dkl_loss_0=tensor(0.1724, device='cuda:0'))\n"
     ]
    }
   ],
   "source": [
    "save_each_steps = 500\n",
    "\n",
    "# Train loop\n",
    "train_step_i = 0\n",
    "for epoch in range(params['num_epochs']):\n",
    "    print('\\nepoch {} out of {}'.format(epoch + 1, params['num_epochs']))\n",
    "    for i in range(X_train.shape[0] // params['batch_size']):\n",
    "        # Sample batch\n",
    "        idx = random.choice(np.arange(0, X_train.shape[0]), params['batch_size'])\n",
    "        x_batch = torch.from_numpy(X_train[idx]).float().to(torch.device(dev))\n",
    "        y_batch = lb.transform(y_train[idx])\n",
    "        y_batch = [torch.from_numpy(y_batch).float().to(torch.device(dev))]\n",
    "        step_losses, step_accuracies = model.train_step(x_batch, y_batch)\n",
    "\n",
    "#         step_losses = [loss.sum().detach().numpy() for loss in step_losses]\n",
    "        # step_losses = Losses(*step_losses)\n",
    "        # step_accuracies = Accuracies(*step_accuracies)\n",
    "\n",
    "        train_losses.append(step_losses)\n",
    "        train_accuracies.append(step_accuracies)\n",
    "\n",
    "        train_step_i += 1\n",
    "\n",
    "        print(\"\\r|train step: {} | rec loss: {:.4f} | z_dkl loss: {:.4f} | class loss: {:.4f}\"\n",
    "              \" | w_dkl loss: {:.4f} | class_accuracy: {:.4f} |\".format(\n",
    "            train_step_i, *step_losses, *step_accuracies\n",
    "            ), end='')\n",
    "        if train_step_i % 100 == 0:\n",
    "            print()\n",
    "        if train_step_i % save_each_steps == 0:\n",
    "            dt = str(datetime.datetime.now().strftime(\"%m_%d_%Y_%I_%M_%p\"))\n",
    "            fname = params['model_dir'] + '/cl_vae_mnist_{}.pt'.format(dt)\n",
    "            model.save_ckpt(fname)\n",
    "model.save_ckpt(params['model_dir'] + '/cl_vae_mnist_last.pt')\n",
    "print('*****Finished with the final loss: ', step_losses)"
   ]
  },
  {
   "cell_type": "markdown",
   "metadata": {},
   "source": [
    "## 5 - Show losses graph"
   ]
  },
  {
   "cell_type": "code",
   "execution_count": 6,
   "metadata": {
    "scrolled": false
   },
   "outputs": [
    {
     "name": "stderr",
     "output_type": "stream",
     "text": [
      "No handles with labels found to put in legend.\n"
     ]
    },
    {
     "name": "stdout",
     "output_type": "stream",
     "text": [
      "('rec_loss', 'z_dkl_loss', 'class_loss_0', 'w_dkl_loss_0')\n",
      "tensor(0.6956, device='cuda:0') tensor(1.00000e-02 *\n",
      "       7.1203, device='cuda:0') tensor(2.3001, device='cuda:0') tensor(1.00000e-02 *\n",
      "       1.4397, device='cuda:0')\n"
     ]
    },
    {
     "name": "stderr",
     "output_type": "stream",
     "text": [
      "No handles with labels found to put in legend.\n",
      "No handles with labels found to put in legend.\n",
      "No handles with labels found to put in legend.\n"
     ]
    },
    {
     "data": {
      "image/png": "[encoded data removed]",
      "text/plain": [
       "<matplotlib.figure.Figure at 0x7fa8cb474470>"
      ]
     },
     "metadata": {
      "needs_background": "light"
     },
     "output_type": "display_data"
    },
    {
     "data": {
      "image/png": "[encoded data removed]",
      "text/plain": [
       "<matplotlib.figure.Figure at 0x7fa8952fb128>"
      ]
     },
     "metadata": {
      "needs_background": "light"
     },
     "output_type": "display_data"
    },
    {
     "data": {
      "image/png": "[encoded data removed]",
      "text/plain": [
       "<matplotlib.figure.Figure at 0x7fa8950cf208>"
      ]
     },
     "metadata": {
      "needs_background": "light"
     },
     "output_type": "display_data"
    },
    {
     "data": {
      "image/png": "[encoded data removed]",
      "text/plain": [
       "<matplotlib.figure.Figure at 0x7fa8950f81d0>"
      ]
     },
     "metadata": {
      "needs_background": "light"
     },
     "output_type": "display_data"
    }
   ],
   "source": [
    "%matplotlib inline\n",
    "losses = defaultdict(list)\n",
    "losses_names = train_losses[0]._fields\n",
    "print(losses_names)\n",
    "step_loss = train_losses[0]\n",
    "print(*step_loss)\n",
    "for i, loss_name in enumerate(losses_names):\n",
    "    losses[loss_name] = [l[i] for l in train_losses]\n",
    "    plt.figure()\n",
    "    plt.title(loss_name)\n",
    "    plt.plot(losses[loss_name])\n",
    "    plt.legend()\n",
    "plt.show()"
   ]
  }
 ],
 "metadata": {
  "kernelspec": {
   "display_name": "Python [conda env:python3.5]",
   "language": "python",
   "name": "conda-env-python3.5-py"
  },
  "language_info": {
   "codemirror_mode": {
    "name": "ipython",
    "version": 3
   },
   "file_extension": ".py",
   "mimetype": "text/x-python",
   "name": "python",
   "nbconvert_exporter": "python",
   "pygments_lexer": "ipython3",
   "version": "3.5.4"
  }
 },
 "nbformat": 4,
 "nbformat_minor": 1
}
