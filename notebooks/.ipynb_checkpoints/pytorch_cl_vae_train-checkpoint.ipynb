{
 "cells": [
  {
   "cell_type": "markdown",
   "metadata": {
    "collapsed": true
   },
   "source": [
    "# Basic Classifying VAE for MNIST Database"
   ]
  },
  {
   "cell_type": "code",
   "execution_count": 1,
   "metadata": {},
   "outputs": [],
   "source": [
    "from sklearn.datasets import fetch_mldata\n",
    "from sklearn.model_selection import train_test_split\n",
    "from sklearn import preprocessing\n",
    "import torch\n",
    "import pprint\n",
    "import numpy as np\n",
    "import numpy.random as random\n",
    "import datetime\n",
    "from src.pytorch_cl_vae.model import ClVaeModel\n",
    "import matplotlib.pyplot as plt\n",
    "from collections import defaultdict"
   ]
  },
  {
   "cell_type": "markdown",
   "metadata": {},
   "source": [
    "## 1 - Specify parameters for to the VAE and training"
   ]
  },
  {
   "cell_type": "code",
   "execution_count": 2,
   "metadata": {},
   "outputs": [],
   "source": [
    "params = {\n",
    "    'batch_size': 100,\n",
    "    'num_epochs': 50,\n",
    "    'latent_dim': 20,\n",
    "    'encoder_hidden_size': 512,\n",
    "    'decoder_hidden_size': 512,\n",
    "    'classifier_hidden_size': 512,\n",
    "    'vae_learning_rate': 0.0001,\n",
    "    'classifier_learning_rate': 0.0001,\n",
    "    'log_dir': '../data/logs',\n",
    "    'model_dir': '../data/models',\n",
    "    'data_dir': '../data'\n",
    "}"
   ]
  },
  {
   "cell_type": "markdown",
   "metadata": {},
   "source": [
    "## 2 - Fetch MNIST"
   ]
  },
  {
   "cell_type": "code",
   "execution_count": 3,
   "metadata": {},
   "outputs": [
    {
     "name": "stdout",
     "output_type": "stream",
     "text": [
      "MNIST db has been successfully loaded, stored in the: \"../data/mldata\"\n",
      "| Train subset shape:(63000, 784) | Test subset shape:(7000, 784) |\n"
     ]
    }
   ],
   "source": [
    "mnist = fetch_mldata('MNIST original', data_home=params['data_dir'])\n",
    "mnist.data = mnist.data / 255\n",
    "num_samples, input_dim = mnist.data.shape\n",
    "num_classes = len(np.unique(mnist.target))\n",
    "lb = preprocessing.LabelBinarizer()\n",
    "lb.fit(mnist.target)\n",
    "params['classes_dim'] = [num_classes]\n",
    "params['original_dim'] = input_dim\n",
    "print('MNIST db has been successfully loaded, stored in the: \"{}\"'.format(params['data_dir'] + '/mldata'))\n",
    "# split data to train and test subsets\n",
    "X_train, X_test, y_train, y_test = train_test_split(mnist.data, mnist.target, test_size=0.1, random_state=0)\n",
    "print(\"| Train subset shape:{} | Test subset shape:{} |\".format(X_train.shape, X_test.shape))"
   ]
  },
  {
   "cell_type": "markdown",
   "metadata": {},
   "source": [
    "## 3 - Create Model"
   ]
  },
  {
   "cell_type": "code",
   "execution_count": 4,
   "metadata": {},
   "outputs": [
    {
     "name": "stdout",
     "output_type": "stream",
     "text": [
      "Model successfully initialized with params: \n",
      "{   'batch_size': 100,\n",
      "    'classes_dim': [10],\n",
      "    'classifier_hidden_size': 512,\n",
      "    'classifier_learning_rate': 0.0001,\n",
      "    'data_dir': '../data',\n",
      "    'decoder_hidden_size': 512,\n",
      "    'encoder_hidden_size': 512,\n",
      "    'latent_dim': 2,\n",
      "    'log_dir': '../data/logs',\n",
      "    'model_dir': '../data/models',\n",
      "    'num_epochs': 10,\n",
      "    'original_dim': 784,\n",
      "    'vae_learning_rate': 0.0001}\n"
     ]
    }
   ],
   "source": [
    "# Initialize ClVaeModel\n",
    "model = ClVaeModel(**params)\n",
    "print(\"Model successfully initialized with params: \")\n",
    "pprint.PrettyPrinter(indent=4).pprint(params)\n",
    "\n",
    "train_losses = []\n",
    "train_accuracies = []"
   ]
  },
  {
   "cell_type": "markdown",
   "metadata": {},
   "source": [
    "## 4 - Train"
   ]
  },
  {
   "cell_type": "code",
   "execution_count": 5,
   "metadata": {
    "scrolled": false
   },
   "outputs": [
    {
     "name": "stdout",
     "output_type": "stream",
     "text": [
      "\n",
      "epoch 1 out of 10\n",
      "\r",
      "|train step: 1 | rec loss: 54567.1094 | z_dkl loss: 0.7329 | class loss: 229.7581 | w_dkl loss: 4.4389 | class_accuracy: 0.1200 |\r",
      "|train step: 2 | rec loss: 54394.0977 | z_dkl loss: 0.7813 | class loss: 229.5717 | w_dkl loss: 3.3004 | class_accuracy: 0.1100 |\r",
      "|train step: 3 | rec loss: 54173.8008 | z_dkl loss: 0.8614 | class loss: 230.6906 | w_dkl loss: 2.6246 | class_accuracy: 0.0900 |\r",
      "|train step: 4 | rec loss: 53956.7773 | z_dkl loss: 1.2783 | class loss: 231.3909 | w_dkl loss: 2.1527 | class_accuracy: 0.0900 |\r",
      "|train step: 5 | rec loss: 53789.3438 | z_dkl loss: 1.5959 | class loss: 229.6530 | w_dkl loss: 1.9666 | class_accuracy: 0.1100 |"
     ]
    },
    {
     "name": "stderr",
     "output_type": "stream",
     "text": [
      "C:\\ProgramData\\Anaconda3\\lib\\site-packages\\torch\\nn\\functional.py:52: UserWarning: size_average and reduce args will be deprecated, please use reduction='sum' instead.\n",
      "  warnings.warn(warning.format(ret))\n"
     ]
    },
    {
     "name": "stdout",
     "output_type": "stream",
     "text": [
      "|train step: 100 | rec loss: 23591.4414 | z_dkl loss: 2781.5439 | class loss: 228.6468 | w_dkl loss: 0.5408 | class_accuracy: 0.1400 |\n",
      "|train step: 200 | rec loss: 20540.9707 | z_dkl loss: 1732.6345 | class loss: 228.6984 | w_dkl loss: 0.4408 | class_accuracy: 0.1200 |\n",
      "|train step: 300 | rec loss: 20275.1797 | z_dkl loss: 1454.2020 | class loss: 228.9747 | w_dkl loss: 0.4565 | class_accuracy: 0.1100 |\n",
      "|train step: 400 | rec loss: 18402.6445 | z_dkl loss: 1270.7667 | class loss: 230.5295 | w_dkl loss: 0.4603 | class_accuracy: 0.1300 |\n",
      "|train step: 500 | rec loss: 18735.2715 | z_dkl loss: 1011.1190 | class loss: 230.7320 | w_dkl loss: 0.4294 | class_accuracy: 0.1000 |\n",
      "|train step: 600 | rec loss: 18708.0898 | z_dkl loss: 930.0016 | class loss: 230.4722 | w_dkl loss: 0.3819 | class_accuracy: 0.1100 ||\n",
      "|train step: 630 | rec loss: 18374.3926 | z_dkl loss: 992.7445 | class loss: 231.3152 | w_dkl loss: 0.4733 | class_accuracy: 0.0600 ||\n",
      "epoch 2 out of 10\n",
      "|train step: 700 | rec loss: 16403.8887 | z_dkl loss: 958.8287 | class loss: 229.6116 | w_dkl loss: 0.4198 | class_accuracy: 0.1300 ||\n",
      "|train step: 800 | rec loss: 18205.9004 | z_dkl loss: 757.2726 | class loss: 230.9161 | w_dkl loss: 0.4479 | class_accuracy: 0.0900 |\n",
      "|train step: 900 | rec loss: 17117.5215 | z_dkl loss: 701.5126 | class loss: 228.9926 | w_dkl loss: 0.3718 | class_accuracy: 0.1400 |\n",
      "|train step: 1000 | rec loss: 16617.1895 | z_dkl loss: 725.7972 | class loss: 230.3584 | w_dkl loss: 0.4139 | class_accuracy: 0.1000 |\n",
      "|train step: 1100 | rec loss: 16924.4199 | z_dkl loss: 575.4376 | class loss: 230.9937 | w_dkl loss: 0.4240 | class_accuracy: 0.0900 |\n",
      "|train step: 1200 | rec loss: 16496.7402 | z_dkl loss: 629.3140 | class loss: 229.7913 | w_dkl loss: 0.3626 | class_accuracy: 0.1200 |\n",
      "|train step: 1260 | rec loss: 16350.4570 | z_dkl loss: 631.1066 | class loss: 230.7387 | w_dkl loss: 0.3844 | class_accuracy: 0.1000 |\n",
      "epoch 3 out of 10\n",
      "|train step: 1300 | rec loss: 15995.6328 | z_dkl loss: 628.6295 | class loss: 230.2883 | w_dkl loss: 0.4336 | class_accuracy: 0.1000 |\n",
      "|train step: 1400 | rec loss: 15053.2783 | z_dkl loss: 677.2990 | class loss: 229.0939 | w_dkl loss: 0.4394 | class_accuracy: 0.1500 |\n",
      "|train step: 1500 | rec loss: 15830.9521 | z_dkl loss: 620.5766 | class loss: 231.5501 | w_dkl loss: 0.4239 | class_accuracy: 0.0700 |\n",
      "|train step: 1600 | rec loss: 15775.8477 | z_dkl loss: 557.0699 | class loss: 230.1913 | w_dkl loss: 0.3824 | class_accuracy: 0.1000 |\n",
      "|train step: 1700 | rec loss: 15488.5879 | z_dkl loss: 557.8579 | class loss: 230.2450 | w_dkl loss: 0.3970 | class_accuracy: 0.0900 |\n",
      "|train step: 1800 | rec loss: 15161.3057 | z_dkl loss: 584.3173 | class loss: 230.8036 | w_dkl loss: 0.4491 | class_accuracy: 0.0800 |\n",
      "|train step: 1890 | rec loss: 16536.3242 | z_dkl loss: 465.9609 | class loss: 230.1839 | w_dkl loss: 0.4636 | class_accuracy: 0.1200 |\n",
      "epoch 4 out of 10\n",
      "|train step: 1900 | rec loss: 15455.0850 | z_dkl loss: 515.1748 | class loss: 230.2819 | w_dkl loss: 0.4029 | class_accuracy: 0.0700 |\n",
      "|train step: 2000 | rec loss: 16377.4336 | z_dkl loss: 491.0318 | class loss: 230.1657 | w_dkl loss: 0.4373 | class_accuracy: 0.1300 |\n",
      "|train step: 2100 | rec loss: 16013.3838 | z_dkl loss: 472.6140 | class loss: 229.1951 | w_dkl loss: 0.4237 | class_accuracy: 0.1100 |\n",
      "|train step: 2200 | rec loss: 14969.1973 | z_dkl loss: 527.9810 | class loss: 230.0701 | w_dkl loss: 0.4470 | class_accuracy: 0.1400 |\n",
      "|train step: 2300 | rec loss: 14691.3037 | z_dkl loss: 480.6193 | class loss: 230.5203 | w_dkl loss: 0.3943 | class_accuracy: 0.0900 |\n",
      "|train step: 2400 | rec loss: 14582.9316 | z_dkl loss: 489.0287 | class loss: 229.0946 | w_dkl loss: 0.4508 | class_accuracy: 0.1400 |\n",
      "|train step: 2500 | rec loss: 14593.7520 | z_dkl loss: 500.4578 | class loss: 231.3535 | w_dkl loss: 0.4142 | class_accuracy: 0.0800 |\n",
      "|train step: 2520 | rec loss: 14673.9160 | z_dkl loss: 478.5972 | class loss: 229.2312 | w_dkl loss: 0.4033 | class_accuracy: 0.1100 |\n",
      "epoch 5 out of 10\n",
      "|train step: 2600 | rec loss: 14230.0527 | z_dkl loss: 517.1850 | class loss: 231.5134 | w_dkl loss: 0.3797 | class_accuracy: 0.0800 |\n",
      "|train step: 2700 | rec loss: 14622.7461 | z_dkl loss: 463.8298 | class loss: 230.4601 | w_dkl loss: 0.4094 | class_accuracy: 0.0700 |\n",
      "|train step: 2800 | rec loss: 15302.6934 | z_dkl loss: 506.4000 | class loss: 230.0481 | w_dkl loss: 0.4172 | class_accuracy: 0.1100 |\n",
      "|train step: 2900 | rec loss: 13991.4160 | z_dkl loss: 507.8549 | class loss: 230.8586 | w_dkl loss: 0.4218 | class_accuracy: 0.1000 |\n",
      "|train step: 3000 | rec loss: 14024.3027 | z_dkl loss: 448.9146 | class loss: 230.7373 | w_dkl loss: 0.4136 | class_accuracy: 0.0800 |\n",
      "|train step: 3100 | rec loss: 14266.2910 | z_dkl loss: 458.6466 | class loss: 229.6884 | w_dkl loss: 0.4353 | class_accuracy: 0.1100 |\n",
      "|train step: 3150 | rec loss: 14837.3662 | z_dkl loss: 452.0440 | class loss: 230.2618 | w_dkl loss: 0.3796 | class_accuracy: 0.1300 |\n",
      "epoch 6 out of 10\n",
      "|train step: 3200 | rec loss: 14521.3721 | z_dkl loss: 433.3509 | class loss: 232.4297 | w_dkl loss: 0.4013 | class_accuracy: 0.0200 |\n",
      "|train step: 3300 | rec loss: 14039.4062 | z_dkl loss: 468.3667 | class loss: 230.8190 | w_dkl loss: 0.4180 | class_accuracy: 0.0900 |\n",
      "|train step: 3400 | rec loss: 15014.0000 | z_dkl loss: 467.2556 | class loss: 230.8407 | w_dkl loss: 0.4288 | class_accuracy: 0.1100 |\n",
      "|train step: 3500 | rec loss: 13857.0928 | z_dkl loss: 453.5007 | class loss: 230.6230 | w_dkl loss: 0.4051 | class_accuracy: 0.1200 |\n",
      "|train step: 3600 | rec loss: 13584.9131 | z_dkl loss: 469.0363 | class loss: 228.1726 | w_dkl loss: 0.4038 | class_accuracy: 0.1600 |\n",
      "|train step: 3700 | rec loss: 15327.2578 | z_dkl loss: 414.4472 | class loss: 229.9817 | w_dkl loss: 0.4484 | class_accuracy: 0.1200 |\n",
      "|train step: 3780 | rec loss: 14517.1533 | z_dkl loss: 432.0151 | class loss: 230.5677 | w_dkl loss: 0.4118 | class_accuracy: 0.1200 |\n",
      "epoch 7 out of 10\n",
      "|train step: 3800 | rec loss: 14069.4014 | z_dkl loss: 432.1880 | class loss: 228.4061 | w_dkl loss: 0.4002 | class_accuracy: 0.1700 |\n",
      "|train step: 3900 | rec loss: 14689.5312 | z_dkl loss: 400.8130 | class loss: 229.5156 | w_dkl loss: 0.4379 | class_accuracy: 0.1200 |\n",
      "|train step: 4000 | rec loss: 14037.2402 | z_dkl loss: 475.9229 | class loss: 230.2956 | w_dkl loss: 0.3989 | class_accuracy: 0.1200 |\n",
      "|train step: 4100 | rec loss: 14135.9180 | z_dkl loss: 459.2801 | class loss: 229.8398 | w_dkl loss: 0.4214 | class_accuracy: 0.1000 |\n",
      "|train step: 4200 | rec loss: 13987.8604 | z_dkl loss: 422.8905 | class loss: 231.2828 | w_dkl loss: 0.4077 | class_accuracy: 0.1100 |\n",
      "|train step: 4300 | rec loss: 13720.9707 | z_dkl loss: 462.1700 | class loss: 230.4281 | w_dkl loss: 0.4233 | class_accuracy: 0.0900 |\n",
      "|train step: 4400 | rec loss: 13748.5186 | z_dkl loss: 440.6272 | class loss: 230.2682 | w_dkl loss: 0.4413 | class_accuracy: 0.0900 |\n",
      "|train step: 4410 | rec loss: 13537.1338 | z_dkl loss: 437.1730 | class loss: 229.4570 | w_dkl loss: 0.4332 | class_accuracy: 0.1500 |\n",
      "epoch 8 out of 10\n",
      "|train step: 4500 | rec loss: 14238.3359 | z_dkl loss: 442.3622 | class loss: 229.3669 | w_dkl loss: 0.4579 | class_accuracy: 0.1300 |\n",
      "|train step: 4600 | rec loss: 14547.6465 | z_dkl loss: 414.6213 | class loss: 228.9951 | w_dkl loss: 0.4375 | class_accuracy: 0.1400 |\n",
      "|train step: 4700 | rec loss: 15102.7871 | z_dkl loss: 437.0425 | class loss: 228.9746 | w_dkl loss: 0.4311 | class_accuracy: 0.1300 |\n",
      "|train step: 4800 | rec loss: 13811.9961 | z_dkl loss: 456.2653 | class loss: 230.3517 | w_dkl loss: 0.4184 | class_accuracy: 0.0700 |\n",
      "|train step: 4900 | rec loss: 13102.9805 | z_dkl loss: 448.3083 | class loss: 229.6859 | w_dkl loss: 0.4619 | class_accuracy: 0.1300 |\n",
      "|train step: 5000 | rec loss: 13618.2881 | z_dkl loss: 455.4549 | class loss: 231.1483 | w_dkl loss: 0.3937 | class_accuracy: 0.1000 |\n",
      "|train step: 5040 | rec loss: 13465.8477 | z_dkl loss: 438.2388 | class loss: 229.2034 | w_dkl loss: 0.4185 | class_accuracy: 0.1200 |\n",
      "epoch 9 out of 10\n",
      "|train step: 5100 | rec loss: 13842.5215 | z_dkl loss: 438.7130 | class loss: 228.3468 | w_dkl loss: 0.3629 | class_accuracy: 0.1800 |\n"
     ]
    },
    {
     "name": "stdout",
     "output_type": "stream",
     "text": [
      "|train step: 5200 | rec loss: 14161.4688 | z_dkl loss: 414.8220 | class loss: 228.9751 | w_dkl loss: 0.4239 | class_accuracy: 0.1400 |\n",
      "|train step: 5300 | rec loss: 14585.0938 | z_dkl loss: 432.6835 | class loss: 229.7358 | w_dkl loss: 0.4357 | class_accuracy: 0.1300 |\n",
      "|train step: 5400 | rec loss: 14075.8037 | z_dkl loss: 455.1704 | class loss: 230.1632 | w_dkl loss: 0.4123 | class_accuracy: 0.1000 |\n",
      "|train step: 5500 | rec loss: 14085.9600 | z_dkl loss: 408.8558 | class loss: 229.2382 | w_dkl loss: 0.4286 | class_accuracy: 0.1600 |\n",
      "|train step: 5600 | rec loss: 14023.4727 | z_dkl loss: 430.3134 | class loss: 229.0553 | w_dkl loss: 0.5059 | class_accuracy: 0.1500 |\n",
      "|train step: 5670 | rec loss: 13709.1699 | z_dkl loss: 433.7847 | class loss: 230.9339 | w_dkl loss: 0.4361 | class_accuracy: 0.1100 |\n",
      "epoch 10 out of 10\n",
      "|train step: 5700 | rec loss: 13520.1904 | z_dkl loss: 412.1485 | class loss: 230.9354 | w_dkl loss: 0.3953 | class_accuracy: 0.0800 |\n",
      "|train step: 5800 | rec loss: 14005.2178 | z_dkl loss: 439.6718 | class loss: 231.0289 | w_dkl loss: 0.4165 | class_accuracy: 0.0900 |\n",
      "|train step: 5900 | rec loss: 14325.5205 | z_dkl loss: 433.1588 | class loss: 229.6863 | w_dkl loss: 0.4578 | class_accuracy: 0.1200 |\n",
      "|train step: 6000 | rec loss: 13759.7461 | z_dkl loss: 418.4515 | class loss: 229.7506 | w_dkl loss: 0.4595 | class_accuracy: 0.1200 |\n",
      "|train step: 6100 | rec loss: 12912.3213 | z_dkl loss: 447.9952 | class loss: 231.2648 | w_dkl loss: 0.4137 | class_accuracy: 0.0800 |\n",
      "|train step: 6200 | rec loss: 13447.0605 | z_dkl loss: 440.1954 | class loss: 230.8779 | w_dkl loss: 0.4888 | class_accuracy: 0.0900 |\n",
      "|train step: 6300 | rec loss: 13532.3018 | z_dkl loss: 430.3880 | class loss: 230.6020 | w_dkl loss: 0.4031 | class_accuracy: 0.0800 |\n",
      "*****Finished with the final loss:  Losses(rec_loss=tensor(13532.3018, grad_fn=<BinaryCrossEntropyBackward>), z_dkl_loss=tensor(430.3880, grad_fn=<MulBackward>), class_loss_0=tensor(230.6020, grad_fn=<NllLossBackward>), w_dkl_loss_0=tensor(0.4031, grad_fn=<MulBackward>))\n"
     ]
    }
   ],
   "source": [
    "save_each_steps = 500\n",
    "\n",
    "# Train loop\n",
    "train_step_i = 0\n",
    "for epoch in range(params['num_epochs']):\n",
    "    print('\\nepoch {} out of {}'.format(epoch + 1, params['num_epochs']))\n",
    "    for i in range(X_train.shape[0] // params['batch_size']):\n",
    "        # Sample batch\n",
    "        idx = random.choice(np.arange(0, X_train.shape[0]), params['batch_size'])\n",
    "        x_batch = torch.from_numpy(X_train[idx]).float()\n",
    "        y_batch = lb.transform(y_train[idx])\n",
    "        y_batch = [torch.from_numpy(y_batch).float()]\n",
    "        step_losses, step_accuracies = model.train_step(x_batch, y_batch)\n",
    "\n",
    "#         step_losses = [loss.sum().detach().numpy() for loss in step_losses]\n",
    "        # step_losses = Losses(*step_losses)\n",
    "        # step_accuracies = Accuracies(*step_accuracies)\n",
    "\n",
    "        train_losses.append(step_losses)\n",
    "        train_accuracies.append(step_accuracies)\n",
    "\n",
    "        train_step_i += 1\n",
    "\n",
    "        print(\"\\r|train step: {} | rec loss: {:.4f} | z_dkl loss: {:.4f} | class loss: {:.4f}\"\n",
    "              \" | w_dkl loss: {:.4f} | class_accuracy: {:.4f} |\".format(\n",
    "            train_step_i, *step_losses, *step_accuracies\n",
    "            ), end='')\n",
    "        if train_step_i % 100 == 0:\n",
    "            print()\n",
    "        if train_step_i % save_each_steps == 0:\n",
    "            dt = str(datetime.datetime.now().strftime(\"%m_%d_%Y_%I_%M_%p\"))\n",
    "            fname = params['model_dir'] + '/cl_vae_mnist_{}.pt'.format(dt)\n",
    "            model.save_ckpt(fname)\n",
    "print('*****Finished with the final loss: ', step_losses)"
   ]
  },
  {
   "cell_type": "markdown",
   "metadata": {},
   "source": [
    "## 5 - Show losses graph"
   ]
  },
  {
   "cell_type": "code",
   "execution_count": 6,
   "metadata": {
    "scrolled": false
   },
   "outputs": [
    {
     "name": "stdout",
     "output_type": "stream",
     "text": [
      "('rec_loss', 'z_dkl_loss', 'class_loss_0', 'w_dkl_loss_0')\n",
      "tensor(54567.1094, grad_fn=<BinaryCrossEntropyBackward>) tensor(0.7329, grad_fn=<MulBackward>) tensor(229.7581, grad_fn=<NllLossBackward>) tensor(4.4389, grad_fn=<MulBackward>)\n"
     ]
    },
    {
     "data": {
      "image/png": "[encoded data removed]",
      "text/plain": [
       "<matplotlib.figure.Figure at 0x2c6d3048>"
      ]
     },
     "metadata": {},
     "output_type": "display_data"
    },
    {
     "data": {
      "image/png": "[encoded data removed]",
      "text/plain": [
       "<matplotlib.figure.Figure at 0x84edbe0>"
      ]
     },
     "metadata": {},
     "output_type": "display_data"
    },
    {
     "data": {
      "image/png": "[encoded data removed]",
      "text/plain": [
       "<matplotlib.figure.Figure at 0x4a82e828>"
      ]
     },
     "metadata": {},
     "output_type": "display_data"
    },
    {
     "data": {
      "image/png": "[encoded data removed]",
      "text/plain": [
       "<matplotlib.figure.Figure at 0x4a86f470>"
      ]
     },
     "metadata": {},
     "output_type": "display_data"
    }
   ],
   "source": [
    "%matplotlib inline\n",
    "losses = defaultdict(list)\n",
    "losses_names = train_losses[0]._fields\n",
    "print(losses_names)\n",
    "step_loss = train_losses[0]\n",
    "print(*step_loss)\n",
    "for i, loss_name in enumerate(losses_names):\n",
    "    losses[loss_name] = [l[i] for l in train_losses]\n",
    "    plt.figure()\n",
    "    plt.title(loss_name)\n",
    "    plt.plot(losses[loss_name])\n",
    "    plt.legend()\n",
    "plt.show()"
   ]
  },
  {
   "cell_type": "markdown",
   "metadata": {},
   "source": [
    "## 6 - Test"
   ]
  },
  {
   "cell_type": "code",
   "execution_count": 7,
   "metadata": {
    "scrolled": true
   },
   "outputs": [
    {
     "name": "stdout",
     "output_type": "stream",
     "text": [
      "Losses(rec_loss=tensor(0.2667), z_dkl_loss=tensor(0.0654), class_loss_0=tensor(2.3070), w_dkl_loss_0=tensor(0.1143))\n"
     ]
    }
   ],
   "source": [
    "y_test = lb.transform(y_test)\n",
    "losses, acc = model.test(torch.from_numpy(X_test).float(), [torch.from_numpy(y_test).float()])\n",
    "pprint.PrettyPrinter(indent=4).pprint(losses)"
   ]
  },
  {
   "cell_type": "markdown",
   "metadata": {},
   "source": [
    "## 7 - Examples"
   ]
  },
  {
   "cell_type": "code",
   "execution_count": null,
   "metadata": {},
   "outputs": [],
   "source": [
    "#TODO\n",
    "\n"
   ]
  }
 ],
 "metadata": {
  "kernelspec": {
   "display_name": "Python 3",
   "language": "python",
   "name": "python3"
  },
  "language_info": {
   "codemirror_mode": {
    "name": "ipython",
    "version": 3
   },
   "file_extension": ".py",
   "mimetype": "text/x-python",
   "name": "python",
   "nbconvert_exporter": "python",
   "pygments_lexer": "ipython3",
   "version": "3.6.3"
  }
 },
 "nbformat": 4,
 "nbformat_minor": 1
}
