{
 "cells": [
  {
   "cell_type": "markdown",
   "metadata": {
    "collapsed": true
   },
   "source": [
    "# Basic Classifying VAE for MNIST Database"
   ]
  },
  {
   "cell_type": "code",
   "execution_count": 1,
   "metadata": {},
   "outputs": [],
   "source": [
    "from sklearn.datasets import fetch_mldata\n",
    "from sklearn.model_selection import train_test_split\n",
    "from sklearn import preprocessing\n",
    "import torch\n",
    "import pprint\n",
    "import numpy as np\n",
    "import numpy.random as random\n",
    "import datetime\n",
    "from src.pytorch_cl_vae.model import ClVaeModel\n",
    "import matplotlib.pyplot as plt\n",
    "from collections import defaultdict"
   ]
  },
  {
   "cell_type": "markdown",
   "metadata": {},
   "source": [
    "## 1 - Specify parameters for to the VAE and training"
   ]
  },
  {
   "cell_type": "code",
   "execution_count": 2,
   "metadata": {},
   "outputs": [],
   "source": [
    "params = {\n",
    "    'batch_size': 100,\n",
    "    'num_epochs': 10,\n",
    "    'latent_dim': 20,\n",
    "    'encoder_hidden_size': 512,\n",
    "    'decoder_hidden_size': 512,\n",
    "    'classifier_hidden_size': 512,\n",
    "    'vae_learning_rate': 0.0001,\n",
    "    'classifier_learning_rate': 0.0001,\n",
    "    'log_dir': '../data/logs',\n",
    "    'model_dir': '../data/models',\n",
    "    'data_dir': '../data'\n",
    "}"
   ]
  },
  {
   "cell_type": "markdown",
   "metadata": {},
   "source": [
    "## 2 - Fetch MNIST"
   ]
  },
  {
   "cell_type": "code",
   "execution_count": 3,
   "metadata": {},
   "outputs": [
    {
     "name": "stdout",
     "output_type": "stream",
     "text": [
      "MNIST db has been successfully loaded, stored in the: \"../data/mldata\"\n",
      "| Train subset shape:(63000, 784) | Test subset shape:(7000, 784) |\n"
     ]
    }
   ],
   "source": [
    "mnist = fetch_mldata('MNIST original', data_home=params['data_dir'])\n",
    "mnist.data = mnist.data / 255\n",
    "num_samples, input_dim = mnist.data.shape\n",
    "num_classes = len(np.unique(mnist.target))\n",
    "lb = preprocessing.LabelBinarizer()\n",
    "lb.fit(mnist.target)\n",
    "params['classes_dim'] = [num_classes]\n",
    "params['original_dim'] = input_dim\n",
    "print('MNIST db has been successfully loaded, stored in the: \"{}\"'.format(params['data_dir'] + '/mldata'))\n",
    "# split data to train and test subsets\n",
    "X_train, X_test, y_train, y_test = train_test_split(mnist.data, mnist.target, test_size=0.1, random_state=0)\n",
    "print(\"| Train subset shape:{} | Test subset shape:{} |\".format(X_train.shape, X_test.shape))"
   ]
  },
  {
   "cell_type": "markdown",
   "metadata": {},
   "source": [
    "## 3 - Create Model"
   ]
  },
  {
   "cell_type": "code",
   "execution_count": 4,
   "metadata": {},
   "outputs": [
    {
     "name": "stdout",
     "output_type": "stream",
     "text": [
      "Model successfully initialized with params: \n",
      "{   'batch_size': 100,\n",
      "    'classes_dim': [10],\n",
      "    'classifier_hidden_size': 512,\n",
      "    'classifier_learning_rate': 0.0001,\n",
      "    'data_dir': '../data',\n",
      "    'decoder_hidden_size': 512,\n",
      "    'encoder_hidden_size': 512,\n",
      "    'latent_dim': 20,\n",
      "    'log_dir': '../data/logs',\n",
      "    'model_dir': '../data/models',\n",
      "    'num_epochs': 10,\n",
      "    'original_dim': 784,\n",
      "    'vae_learning_rate': 0.0001}\n"
     ]
    }
   ],
   "source": [
    "# Initialize ClVaeModel\n",
    "model = ClVaeModel(**params)\n",
    "print(\"Model successfully initialized with params: \")\n",
    "pprint.PrettyPrinter(indent=4).pprint(params)\n",
    "\n",
    "train_losses = []\n",
    "train_accuracies = []"
   ]
  },
  {
   "cell_type": "markdown",
   "metadata": {},
   "source": [
    "## 4 - Train"
   ]
  },
  {
   "cell_type": "code",
   "execution_count": 5,
   "metadata": {
    "scrolled": false
   },
   "outputs": [
    {
     "name": "stdout",
     "output_type": "stream",
     "text": [
      "\n",
      "epoch 1 out of 10\n",
      "|train step: 100 | rec loss: 206.2676 | z_dkl loss: 0.2205 | class loss: 22.3132 | w_dkl loss: 10.5438 | class_accuracy: 0.3100 |\n",
      "|train step: 200 | rec loss: 211.3762 | z_dkl loss: 0.2475 | class loss: 22.2651 | w_dkl loss: 7.1608 | class_accuracy: 0.2900 ||\n",
      "|train step: 300 | rec loss: 198.6507 | z_dkl loss: 0.1473 | class loss: 22.3727 | w_dkl loss: 6.3318 | class_accuracy: 0.2200 ||\n",
      "|train step: 400 | rec loss: 204.2970 | z_dkl loss: 0.2458 | class loss: 22.0478 | w_dkl loss: 4.8453 | class_accuracy: 0.3400 |\n",
      "|train step: 500 | rec loss: 201.3051 | z_dkl loss: 0.1991 | class loss: 22.3639 | w_dkl loss: 5.8907 | class_accuracy: 0.2700 ||\n",
      "|train step: 600 | rec loss: 192.6577 | z_dkl loss: 0.1363 | class loss: 22.1534 | w_dkl loss: 6.2556 | class_accuracy: 0.3500 |\n",
      "|train step: 630 | rec loss: 190.6737 | z_dkl loss: 0.1144 | class loss: 22.2611 | w_dkl loss: 4.8545 | class_accuracy: 0.2400 |\n",
      "epoch 2 out of 10\n",
      "|train step: 700 | rec loss: 194.7078 | z_dkl loss: 0.1209 | class loss: 22.3168 | w_dkl loss: 4.4955 | class_accuracy: 0.2900 |\n",
      "|train step: 800 | rec loss: 196.2013 | z_dkl loss: 0.1615 | class loss: 22.3061 | w_dkl loss: 4.3748 | class_accuracy: 0.2600 |\n",
      "|train step: 900 | rec loss: 175.4904 | z_dkl loss: 0.0976 | class loss: 22.3081 | w_dkl loss: 3.5848 | class_accuracy: 0.2800 |\n",
      "|train step: 1000 | rec loss: 185.2783 | z_dkl loss: 0.1021 | class loss: 22.1829 | w_dkl loss: 4.0268 | class_accuracy: 0.3400 |\n",
      "|train step: 1100 | rec loss: 169.7228 | z_dkl loss: 0.1002 | class loss: 22.3753 | w_dkl loss: 3.9207 | class_accuracy: 0.2500 |\n",
      "|train step: 1200 | rec loss: 182.5624 | z_dkl loss: 0.0920 | class loss: 21.8317 | w_dkl loss: 3.1211 | class_accuracy: 0.3900 |\n",
      "|train step: 1260 | rec loss: 178.9154 | z_dkl loss: 0.0880 | class loss: 22.2502 | w_dkl loss: 3.1271 | class_accuracy: 0.3400 |\n",
      "epoch 3 out of 10\n",
      "|train step: 1300 | rec loss: 179.3947 | z_dkl loss: 0.0958 | class loss: 22.2966 | w_dkl loss: 3.5088 | class_accuracy: 0.2600 |\n",
      "|train step: 1400 | rec loss: 176.3012 | z_dkl loss: 0.0961 | class loss: 22.2672 | w_dkl loss: 5.4155 | class_accuracy: 0.3100 |\n",
      "|train step: 1500 | rec loss: 183.7620 | z_dkl loss: 0.1088 | class loss: 22.2003 | w_dkl loss: 3.1647 | class_accuracy: 0.3000 |\n",
      "|train step: 1600 | rec loss: 166.4601 | z_dkl loss: 0.0617 | class loss: 22.2061 | w_dkl loss: 3.3136 | class_accuracy: 0.3200 |\n",
      "|train step: 1700 | rec loss: 162.9613 | z_dkl loss: 0.0453 | class loss: 22.0648 | w_dkl loss: 2.4172 | class_accuracy: 0.3000 |\n",
      "|train step: 1800 | rec loss: 169.0351 | z_dkl loss: 0.0732 | class loss: 22.2513 | w_dkl loss: 2.3503 | class_accuracy: 0.3100 |\n",
      "|train step: 1890 | rec loss: 177.4237 | z_dkl loss: 0.0847 | class loss: 22.1130 | w_dkl loss: 2.3628 | class_accuracy: 0.2900 |\n",
      "epoch 4 out of 10\n",
      "|train step: 1900 | rec loss: 177.9946 | z_dkl loss: 0.0603 | class loss: 22.4190 | w_dkl loss: 3.8297 | class_accuracy: 0.2200 |\n",
      "|train step: 2000 | rec loss: 171.7694 | z_dkl loss: 0.0597 | class loss: 22.2248 | w_dkl loss: 2.0855 | class_accuracy: 0.2500 |\n",
      "|train step: 2100 | rec loss: 173.4952 | z_dkl loss: 0.0663 | class loss: 22.1532 | w_dkl loss: 2.4967 | class_accuracy: 0.3100 |\n",
      "|train step: 2200 | rec loss: 174.8883 | z_dkl loss: 0.0607 | class loss: 22.0889 | w_dkl loss: 1.7651 | class_accuracy: 0.2900 |\n",
      "|train step: 2300 | rec loss: 173.7854 | z_dkl loss: 0.0486 | class loss: 21.7168 | w_dkl loss: 2.1421 | class_accuracy: 0.3600 |\n",
      "|train step: 2400 | rec loss: 169.7993 | z_dkl loss: 0.0414 | class loss: 22.1700 | w_dkl loss: 2.3312 | class_accuracy: 0.3100 |\n",
      "|train step: 2500 | rec loss: 170.3748 | z_dkl loss: 0.0486 | class loss: 22.3235 | w_dkl loss: 2.3721 | class_accuracy: 0.2500 |\n",
      "|train step: 2520 | rec loss: 182.2267 | z_dkl loss: 0.0666 | class loss: 22.3450 | w_dkl loss: 2.1326 | class_accuracy: 0.3000 |\n",
      "epoch 5 out of 10\n",
      "|train step: 2600 | rec loss: 176.4283 | z_dkl loss: 0.0494 | class loss: 22.1583 | w_dkl loss: 1.9336 | class_accuracy: 0.3200 |\n",
      "|train step: 2700 | rec loss: 177.9392 | z_dkl loss: 0.0421 | class loss: 22.3157 | w_dkl loss: 2.0671 | class_accuracy: 0.2700 |\n",
      "|train step: 2800 | rec loss: 173.2107 | z_dkl loss: 0.0318 | class loss: 21.8311 | w_dkl loss: 1.6630 | class_accuracy: 0.4000 |\n",
      "|train step: 2900 | rec loss: 175.0222 | z_dkl loss: 0.0453 | class loss: 22.0363 | w_dkl loss: 2.2781 | class_accuracy: 0.3300 |\n",
      "|train step: 3000 | rec loss: 168.9873 | z_dkl loss: 0.0372 | class loss: 22.0582 | w_dkl loss: 1.4159 | class_accuracy: 0.3600 |\n",
      "|train step: 3100 | rec loss: 175.8269 | z_dkl loss: 0.0320 | class loss: 22.2060 | w_dkl loss: 2.7340 | class_accuracy: 0.2600 |\n",
      "|train step: 3150 | rec loss: 183.7000 | z_dkl loss: 0.0497 | class loss: 22.1768 | w_dkl loss: 2.8463 | class_accuracy: 0.3300 |\n",
      "epoch 6 out of 10\n",
      "|train step: 3200 | rec loss: 167.9005 | z_dkl loss: 0.0333 | class loss: 22.0200 | w_dkl loss: 1.1692 | class_accuracy: 0.3100 |\n",
      "|train step: 3300 | rec loss: 173.5247 | z_dkl loss: 0.0235 | class loss: 22.3573 | w_dkl loss: 1.7852 | class_accuracy: 0.2500 |\n",
      "|train step: 3400 | rec loss: 172.0777 | z_dkl loss: 0.0283 | class loss: 22.0337 | w_dkl loss: 1.4514 | class_accuracy: 0.4200 |\n",
      "|train step: 3500 | rec loss: 170.3522 | z_dkl loss: 0.0351 | class loss: 22.1170 | w_dkl loss: 3.3051 | class_accuracy: 0.3000 |\n",
      "|train step: 3600 | rec loss: 179.6689 | z_dkl loss: 0.0276 | class loss: 22.1700 | w_dkl loss: 2.1662 | class_accuracy: 0.3300 |\n",
      "|train step: 3700 | rec loss: 175.5450 | z_dkl loss: 0.0401 | class loss: 22.1302 | w_dkl loss: 1.6620 | class_accuracy: 0.3500 |\n",
      "|train step: 3780 | rec loss: 173.8718 | z_dkl loss: 0.0409 | class loss: 22.2148 | w_dkl loss: 1.4542 | class_accuracy: 0.3200 |\n",
      "epoch 7 out of 10\n",
      "|train step: 3800 | rec loss: 173.6973 | z_dkl loss: 0.0311 | class loss: 22.0768 | w_dkl loss: 1.6655 | class_accuracy: 0.3600 |\n",
      "|train step: 3900 | rec loss: 173.3849 | z_dkl loss: 0.0257 | class loss: 22.2646 | w_dkl loss: 2.1225 | class_accuracy: 0.2500 |\n",
      "|train step: 4000 | rec loss: 174.8615 | z_dkl loss: 0.0254 | class loss: 21.9162 | w_dkl loss: 0.9558 | class_accuracy: 0.3500 |\n",
      "|train step: 4100 | rec loss: 180.2609 | z_dkl loss: 0.0228 | class loss: 22.1476 | w_dkl loss: 0.9058 | class_accuracy: 0.3600 |\n",
      "|train step: 4200 | rec loss: 170.7201 | z_dkl loss: 0.0217 | class loss: 22.2160 | w_dkl loss: 0.7762 | class_accuracy: 0.2800 |\n",
      "|train step: 4300 | rec loss: 180.5979 | z_dkl loss: 0.0191 | class loss: 22.1005 | w_dkl loss: 2.1079 | class_accuracy: 0.3200 |\n",
      "|train step: 4400 | rec loss: 172.3135 | z_dkl loss: 0.0164 | class loss: 22.1017 | w_dkl loss: 0.6657 | class_accuracy: 0.2700 |\n",
      "|train step: 4410 | rec loss: 167.8425 | z_dkl loss: 0.0141 | class loss: 22.0741 | w_dkl loss: 1.1516 | class_accuracy: 0.3400 |\n",
      "epoch 8 out of 10\n",
      "|train step: 4500 | rec loss: 169.3901 | z_dkl loss: 0.0165 | class loss: 22.2051 | w_dkl loss: 0.9387 | class_accuracy: 0.2800 |\n",
      "|train step: 4600 | rec loss: 165.7871 | z_dkl loss: 0.0160 | class loss: 22.1246 | w_dkl loss: 1.4965 | class_accuracy: 0.3000 |\n",
      "|train step: 4700 | rec loss: 179.5192 | z_dkl loss: 0.0173 | class loss: 22.0420 | w_dkl loss: 1.8524 | class_accuracy: 0.3400 |\n",
      "|train step: 4800 | rec loss: 161.7236 | z_dkl loss: 0.0108 | class loss: 22.3118 | w_dkl loss: 1.3556 | class_accuracy: 0.2300 |\n",
      "|train step: 4900 | rec loss: 172.4303 | z_dkl loss: 0.0139 | class loss: 22.1129 | w_dkl loss: 0.8558 | class_accuracy: 0.2800 |\n",
      "|train step: 5000 | rec loss: 173.7961 | z_dkl loss: 0.0183 | class loss: 22.1788 | w_dkl loss: 1.5180 | class_accuracy: 0.3300 |\n",
      "|train step: 5040 | rec loss: 166.2297 | z_dkl loss: 0.0124 | class loss: 21.9801 | w_dkl loss: 1.2032 | class_accuracy: 0.3100 |\n",
      "epoch 9 out of 10\n",
      "|train step: 5100 | rec loss: 184.6350 | z_dkl loss: 0.0135 | class loss: 21.9504 | w_dkl loss: 1.1573 | class_accuracy: 0.3700 |\n",
      "|train step: 5200 | rec loss: 180.1931 | z_dkl loss: 0.0101 | class loss: 22.1998 | w_dkl loss: 1.4919 | class_accuracy: 0.2500 |\n",
      "|train step: 5300 | rec loss: 169.4152 | z_dkl loss: 0.0113 | class loss: 22.0336 | w_dkl loss: 0.8721 | class_accuracy: 0.3000 |\n"
     ]
    },
    {
     "name": "stdout",
     "output_type": "stream",
     "text": [
      "|train step: 5400 | rec loss: 184.6103 | z_dkl loss: 0.0157 | class loss: 22.0055 | w_dkl loss: 1.2487 | class_accuracy: 0.3700 |\n",
      "|train step: 5500 | rec loss: 170.4976 | z_dkl loss: 0.0132 | class loss: 22.0370 | w_dkl loss: 0.9768 | class_accuracy: 0.3300 |\n",
      "|train step: 5600 | rec loss: 179.8472 | z_dkl loss: 0.0137 | class loss: 22.4969 | w_dkl loss: 0.8719 | class_accuracy: 0.2300 |\n",
      "|train step: 5670 | rec loss: 168.4037 | z_dkl loss: 0.0075 | class loss: 22.1029 | w_dkl loss: 0.9711 | class_accuracy: 0.3300 |\n",
      "epoch 10 out of 10\n",
      "|train step: 5700 | rec loss: 167.6492 | z_dkl loss: 0.0078 | class loss: 22.1448 | w_dkl loss: 0.5407 | class_accuracy: 0.3200 |\n",
      "|train step: 5800 | rec loss: 173.4099 | z_dkl loss: 0.0102 | class loss: 21.9125 | w_dkl loss: 1.3538 | class_accuracy: 0.3700 |\n",
      "|train step: 5900 | rec loss: 171.9944 | z_dkl loss: 0.0099 | class loss: 22.1404 | w_dkl loss: 1.0823 | class_accuracy: 0.3200 |\n",
      "|train step: 6000 | rec loss: 169.7861 | z_dkl loss: 0.0077 | class loss: 22.2324 | w_dkl loss: 1.2872 | class_accuracy: 0.2600 |\n",
      "|train step: 6100 | rec loss: 176.7289 | z_dkl loss: 0.0101 | class loss: 22.1548 | w_dkl loss: 0.8104 | class_accuracy: 0.3000 |\n",
      "|train step: 6200 | rec loss: 174.2984 | z_dkl loss: 0.0084 | class loss: 22.1415 | w_dkl loss: 0.4440 | class_accuracy: 0.2800 |\n",
      "|train step: 6300 | rec loss: 176.9568 | z_dkl loss: 0.0067 | class loss: 21.8407 | w_dkl loss: 0.6462 | class_accuracy: 0.4300 |\n",
      "*****Finished with the final loss:  Losses(rec_loss=tensor(176.9568, grad_fn=<MulBackward>), z_dkl_loss=tensor(0.0067, grad_fn=<MulBackward>), class_loss_0=tensor(21.8407, grad_fn=<MulBackward>), w_dkl_loss_0=tensor(0.6462, grad_fn=<MulBackward>))\n"
     ]
    }
   ],
   "source": [
    "save_each_steps = 500\n",
    "\n",
    "# Train loop\n",
    "train_step_i = 0\n",
    "for epoch in range(params['num_epochs']):\n",
    "    print('\\nepoch {} out of {}'.format(epoch + 1, params['num_epochs']))\n",
    "    for i in range(X_train.shape[0] // params['batch_size']):\n",
    "        # Sample batch\n",
    "        idx = random.choice(np.arange(0, X_train.shape[0]), params['batch_size'])\n",
    "        x_batch = torch.from_numpy(X_train[idx]).float()\n",
    "        y_batch = lb.transform(y_train[idx])\n",
    "        y_batch = [torch.from_numpy(y_batch).float()]\n",
    "        step_losses, step_accuracies = model.train_step(x_batch, y_batch)\n",
    "\n",
    "#         step_losses = [loss.sum().detach().numpy() for loss in step_losses]\n",
    "        # step_losses = Losses(*step_losses)\n",
    "        # step_accuracies = Accuracies(*step_accuracies)\n",
    "\n",
    "        train_losses.append(step_losses)\n",
    "        train_accuracies.append(step_accuracies)\n",
    "\n",
    "        train_step_i += 1\n",
    "\n",
    "        print(\"\\r|train step: {} | rec loss: {:.4f} | z_dkl loss: {:.4f} | class loss: {:.4f}\"\n",
    "              \" | w_dkl loss: {:.4f} | class_accuracy: {:.4f} |\".format(\n",
    "            train_step_i, *step_losses, *step_accuracies\n",
    "            ), end='')\n",
    "        if train_step_i % 100 == 0:\n",
    "            print()\n",
    "        if train_step_i % save_each_steps == 0:\n",
    "            dt = str(datetime.datetime.now().strftime(\"%m_%d_%Y_%I_%M_%p\"))\n",
    "            fname = params['model_dir'] + '/cl_vae_mnist_{}.pt'.format(dt)\n",
    "            model.save_ckpt(fname)\n",
    "print('*****Finished with the final loss: ', step_losses)"
   ]
  },
  {
   "cell_type": "markdown",
   "metadata": {},
   "source": [
    "## 5 - Show losses graph"
   ]
  },
  {
   "cell_type": "code",
   "execution_count": 6,
   "metadata": {
    "scrolled": false
   },
   "outputs": [
    {
     "name": "stdout",
     "output_type": "stream",
     "text": [
      "('rec_loss', 'z_dkl_loss', 'class_loss_0', 'w_dkl_loss_0')\n",
      "tensor(544.3630, grad_fn=<MulBackward>) tensor(3.4216, grad_fn=<MulBackward>) tensor(23.1148, grad_fn=<MulBackward>) tensor(46.2138, grad_fn=<MulBackward>)\n"
     ]
    },
    {
     "data": {
      "image/png": "[encoded data removed]",
      "text/plain": [
       "<matplotlib.figure.Figure at 0x2e549780>"
      ]
     },
     "metadata": {},
     "output_type": "display_data"
    },
    {
     "data": {
      "image/png": "[encoded data removed]",
      "text/plain": [
       "<matplotlib.figure.Figure at 0x4d5edcf8>"
      ]
     },
     "metadata": {},
     "output_type": "display_data"
    },
    {
     "data": {
      "image/png": "[encoded data removed]",
      "text/plain": [
       "<matplotlib.figure.Figure at 0x4dfa3400>"
      ]
     },
     "metadata": {},
     "output_type": "display_data"
    },
    {
     "data": {
      "image/png": "[encoded data removed]",
      "text/plain": [
       "<matplotlib.figure.Figure at 0x4dfdb9e8>"
      ]
     },
     "metadata": {},
     "output_type": "display_data"
    }
   ],
   "source": [
    "%matplotlib inline\n",
    "losses = defaultdict(list)\n",
    "losses_names = train_losses[0]._fields\n",
    "print(losses_names)\n",
    "step_loss = train_losses[0]\n",
    "print(*step_loss)\n",
    "for i, loss_name in enumerate(losses_names):\n",
    "    losses[loss_name] = [l[i] for l in train_losses]\n",
    "    plt.figure()\n",
    "    plt.title(loss_name)\n",
    "    plt.plot(losses[loss_name])\n",
    "    plt.legend()\n",
    "plt.show()"
   ]
  },
  {
   "cell_type": "markdown",
   "metadata": {},
   "source": [
    "## 6 - Test"
   ]
  },
  {
   "cell_type": "code",
   "execution_count": 7,
   "metadata": {
    "scrolled": true
   },
   "outputs": [
    {
     "name": "stdout",
     "output_type": "stream",
     "text": [
      "Losses(rec_loss=tensor(0.2667), z_dkl_loss=tensor(0.0654), class_loss_0=tensor(2.3070), w_dkl_loss_0=tensor(0.1143))\n"
     ]
    }
   ],
   "source": [
    "y_test = lb.transform(y_test)\n",
    "losses, acc = model.test(torch.from_numpy(X_test).float(), [torch.from_numpy(y_test).float()])\n",
    "pprint.PrettyPrinter(indent=4).pprint(losses)"
   ]
  },
  {
   "cell_type": "markdown",
   "metadata": {},
   "source": [
    "## 7 - Examples"
   ]
  },
  {
   "cell_type": "code",
   "execution_count": null,
   "metadata": {},
   "outputs": [],
   "source": [
    "#TODO\n",
    "\n"
   ]
  }
 ],
 "metadata": {
  "kernelspec": {
   "display_name": "Python 3",
   "language": "python",
   "name": "python3"
  },
  "language_info": {
   "codemirror_mode": {
    "name": "ipython",
    "version": 3
   },
   "file_extension": ".py",
   "mimetype": "text/x-python",
   "name": "python",
   "nbconvert_exporter": "python",
   "pygments_lexer": "ipython3",
   "version": "3.6.3"
  }
 },
 "nbformat": 4,
 "nbformat_minor": 1
}
