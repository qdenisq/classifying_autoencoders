{
 "cells": [
  {
   "cell_type": "markdown",
   "metadata": {
    "collapsed": true
   },
   "source": [
    "# Basic Classifying VAE for MNIST Database"
   ]
  },
  {
   "cell_type": "code",
   "execution_count": 1,
   "metadata": {},
   "outputs": [],
   "source": [
    "from sklearn.datasets import fetch_mldata\n",
    "from sklearn.model_selection import train_test_split\n",
    "from sklearn import preprocessing\n",
    "import torch\n",
    "import pprint\n",
    "import numpy as np\n",
    "import numpy.random as random\n",
    "import datetime\n",
    "from src.pytorch_cl_vae.model import ClVaeModel\n",
    "import matplotlib.pyplot as plt\n",
    "from collections import defaultdict"
   ]
  },
  {
   "cell_type": "markdown",
   "metadata": {},
   "source": [
    "## 1 - Specify parameters for to the VAE and training"
   ]
  },
  {
   "cell_type": "code",
   "execution_count": 2,
   "metadata": {},
   "outputs": [],
   "source": [
    "params = {\n",
<<<<<<< HEAD
    "    'batch_size': 2048,\n",
    "    'num_epochs': 300,\n",
    "    'latent_dim': 2,\n",
    "    'encoder_hidden_size': 256,\n",
    "    'decoder_hidden_size': 256,\n",
    "    'classifier_hidden_size': 256,\n",
    "    'vae_learning_rate': 0.001,\n",
    "    'classifier_learning_rate': 0.001,\n",
=======
    "    'batch_size': 100,\n",
    "    'num_epochs': 5,\n",
    "    'latent_dim': 2,\n",
    "    'encoder_hidden_size': 512,\n",
    "    'decoder_hidden_size': 512,\n",
    "    'classifier_hidden_size': 512,\n",
    "    'vae_learning_rate': 0.0001,\n",
    "    'classifier_learning_rate': 0.0001,\n",
>>>>>>> parent of 1643c55... DS: best cl_vae so far
    "    'log_dir': '../data/logs',\n",
    "    'model_dir': '../data/models',\n",
    "    'data_dir': '../data'\n",
    "}"
   ]
  },
  {
   "cell_type": "markdown",
   "metadata": {},
   "source": [
    "## 2 - Fetch MNIST"
   ]
  },
  {
   "cell_type": "code",
   "execution_count": 3,
   "metadata": {},
   "outputs": [
    {
     "name": "stdout",
     "output_type": "stream",
     "text": [
      "MNIST db has been successfully loaded, stored in the: \"../data/mldata\"\n",
      "| Train subset shape:(63000, 784) | Test subset shape:(7000, 784) |\n"
     ]
    }
   ],
   "source": [
    "mnist = fetch_mldata('MNIST original', data_home=params['data_dir'])\n",
    "mnist.data = mnist.data / 255\n",
    "num_samples, input_dim = mnist.data.shape\n",
    "num_classes = len(np.unique(mnist.target))\n",
    "lb = preprocessing.LabelBinarizer()\n",
    "lb.fit(mnist.target)\n",
    "params['classes_dim'] = [num_classes]\n",
    "params['original_dim'] = input_dim\n",
    "print('MNIST db has been successfully loaded, stored in the: \"{}\"'.format(params['data_dir'] + '/mldata'))\n",
    "# split data to train and test subsets\n",
    "X_train, X_test, y_train, y_test = train_test_split(mnist.data, mnist.target, test_size=0.1, random_state=0)\n",
    "print(\"| Train subset shape:{} | Test subset shape:{} |\".format(X_train.shape, X_test.shape))"
   ]
  },
  {
   "cell_type": "markdown",
   "metadata": {},
   "source": [
    "## 3 - Create Model"
   ]
  },
  {
   "cell_type": "code",
   "execution_count": 4,
   "metadata": {},
   "outputs": [
    {
     "name": "stdout",
     "output_type": "stream",
     "text": [
      "Model successfully initialized with params: \n",
      "{   'batch_size': 2048,\n",
      "    'classes_dim': [10],\n",
      "    'classifier_hidden_size': 512,\n",
      "    'classifier_learning_rate': 0.0001,\n",
      "    'data_dir': '../data',\n",
      "    'decoder_hidden_size': 512,\n",
      "    'encoder_hidden_size': 512,\n",
      "    'latent_dim': 2,\n",
      "    'log_dir': '../data/logs',\n",
      "    'model_dir': '../data/models',\n",
<<<<<<< HEAD
      "    'num_epochs': 100,\n",
=======
      "    'num_epochs': 5,\n",
>>>>>>> parent of 1643c55... DS: best cl_vae so far
      "    'original_dim': 784,\n",
      "    'vae_learning_rate': 0.0001}\n"
     ]
    }
   ],
   "source": [
    "# Initialize ClVaeModel\n",
    "model = ClVaeModel(**params)\n",
    "print(\"Model successfully initialized with params: \")\n",
    "pprint.PrettyPrinter(indent=4).pprint(params)\n",
    "\n",
    "train_losses = []\n",
    "train_accuracies = []"
   ]
  },
  {
   "cell_type": "markdown",
   "metadata": {},
   "source": [
    "## 4 - Train"
   ]
  },
  {
   "cell_type": "code",
   "execution_count": 5,
   "metadata": {
    "scrolled": false
   },
   "outputs": [
    {
     "name": "stdout",
     "output_type": "stream",
     "text": [
      "\n",
<<<<<<< HEAD
      "epoch 1 out of 100\n",
      "|train step: 30 | rec loss: 0.6270 | z_dkl loss: 0.0001 | class loss: 2.2528 | w_dkl loss: 0.0000 | class_accuracy: 0.2153 |\n",
      "epoch 2 out of 100\n",
      "|train step: 60 | rec loss: 0.5634 | z_dkl loss: 0.0002 | class loss: 2.1307 | w_dkl loss: 0.0000 | class_accuracy: 0.4287 |\n",
      "epoch 3 out of 100\n",
      "|train step: 90 | rec loss: 0.5076 | z_dkl loss: 0.0006 | class loss: 1.9839 | w_dkl loss: 0.0000 | class_accuracy: 0.6016 |\n",
      "epoch 4 out of 100\n",
      "|train step: 100 | rec loss: 0.4911 | z_dkl loss: 0.0006 | class loss: 1.9392 | w_dkl loss: 0.0000 | class_accuracy: 0.6558 |\n",
      "|train step: 120 | rec loss: 0.4566 | z_dkl loss: 0.0008 | class loss: 1.8722 | w_dkl loss: 0.0000 | class_accuracy: 0.6973 |\n",
      "epoch 5 out of 100\n",
      "|train step: 150 | rec loss: 0.4141 | z_dkl loss: 0.0001 | class loss: 1.7944 | w_dkl loss: 0.0000 | class_accuracy: 0.7690 |\n",
      "epoch 6 out of 100\n",
      "|train step: 180 | rec loss: 0.3733 | z_dkl loss: 0.0040 | class loss: 1.7489 | w_dkl loss: 0.0000 | class_accuracy: 0.7881 |\n",
      "epoch 7 out of 100\n",
      "|train step: 200 | rec loss: 0.3529 | z_dkl loss: 0.0049 | class loss: 1.7291 | w_dkl loss: 0.0000 | class_accuracy: 0.8022 |\n",
      "|train step: 210 | rec loss: 0.3488 | z_dkl loss: 0.0010 | class loss: 1.7297 | w_dkl loss: 0.0000 | class_accuracy: 0.7944 |\n",
      "epoch 8 out of 100\n",
      "|train step: 240 | rec loss: 0.3233 | z_dkl loss: 0.0007 | class loss: 1.7146 | w_dkl loss: 0.0000 | class_accuracy: 0.8003 |\n",
      "epoch 9 out of 100\n",
      "|train step: 270 | rec loss: 0.3066 | z_dkl loss: 0.0051 | class loss: 1.6917 | w_dkl loss: 0.0000 | class_accuracy: 0.8125 |\n",
      "epoch 10 out of 100\n",
      "|train step: 300 | rec loss: 0.2936 | z_dkl loss: 0.0038 | class loss: 1.6926 | w_dkl loss: 0.0000 | class_accuracy: 0.8066 |\n",
      "\n",
      "epoch 11 out of 100\n",
      "|train step: 330 | rec loss: 0.2844 | z_dkl loss: 0.0080 | class loss: 1.6738 | w_dkl loss: 0.0000 | class_accuracy: 0.8242 |\n",
      "epoch 12 out of 100\n",
      "|train step: 360 | rec loss: 0.2770 | z_dkl loss: 0.0006 | class loss: 1.6685 | w_dkl loss: 0.0000 | class_accuracy: 0.8169 |\n",
      "epoch 13 out of 100\n",
      "|train step: 390 | rec loss: 0.2712 | z_dkl loss: 0.0018 | class loss: 1.6672 | w_dkl loss: 0.0000 | class_accuracy: 0.8198 |\n",
      "epoch 14 out of 100\n",
      "|train step: 400 | rec loss: 0.2658 | z_dkl loss: 0.0007 | class loss: 1.6550 | w_dkl loss: 0.0000 | class_accuracy: 0.8315 |\n",
      "|train step: 420 | rec loss: 0.2631 | z_dkl loss: 0.0009 | class loss: 1.6655 | w_dkl loss: 0.0000 | class_accuracy: 0.8208 |\n",
      "epoch 15 out of 100\n",
      "|train step: 450 | rec loss: 0.2606 | z_dkl loss: 0.0013 | class loss: 1.6460 | w_dkl loss: 0.0000 | class_accuracy: 0.8398 |\n",
      "epoch 16 out of 100\n",
      "|train step: 480 | rec loss: 0.2554 | z_dkl loss: 0.0010 | class loss: 1.6522 | w_dkl loss: 0.0000 | class_accuracy: 0.8286 |\n",
      "epoch 17 out of 100\n",
      "|train step: 500 | rec loss: 0.2533 | z_dkl loss: 0.0015 | class loss: 1.6376 | w_dkl loss: 0.0000 | class_accuracy: 0.8447 |\n",
      "|train step: 510 | rec loss: 0.2521 | z_dkl loss: 0.0052 | class loss: 1.6388 | w_dkl loss: 0.0000 | class_accuracy: 0.8403 |\n",
      "epoch 18 out of 100\n",
      "|train step: 540 | rec loss: 0.2485 | z_dkl loss: 0.0004 | class loss: 1.6542 | w_dkl loss: 0.0000 | class_accuracy: 0.8262 |\n",
      "epoch 19 out of 100\n",
      "|train step: 570 | rec loss: 0.2462 | z_dkl loss: 0.0025 | class loss: 1.6425 | w_dkl loss: 0.0000 | class_accuracy: 0.8354 |\n",
      "epoch 20 out of 100\n",
      "|train step: 600 | rec loss: 0.2424 | z_dkl loss: 0.0043 | class loss: 1.6382 | w_dkl loss: 0.0000 | class_accuracy: 0.8428 |\n",
      "\n",
      "epoch 21 out of 100\n",
      "|train step: 630 | rec loss: 0.2431 | z_dkl loss: 0.0034 | class loss: 1.6429 | w_dkl loss: 0.0000 | class_accuracy: 0.8345 |\n",
      "epoch 22 out of 100\n",
      "|train step: 660 | rec loss: 0.2377 | z_dkl loss: 0.0022 | class loss: 1.6347 | w_dkl loss: 0.0000 | class_accuracy: 0.8350 |\n",
      "epoch 23 out of 100\n",
      "|train step: 690 | rec loss: 0.2368 | z_dkl loss: 0.0020 | class loss: 1.6258 | w_dkl loss: 0.0000 | class_accuracy: 0.8535 |\n",
      "epoch 24 out of 100\n",
      "|train step: 700 | rec loss: 0.2366 | z_dkl loss: 0.0023 | class loss: 1.6127 | w_dkl loss: 0.0000 | class_accuracy: 0.8809 |\n",
      "|train step: 720 | rec loss: 0.2348 | z_dkl loss: 0.0066 | class loss: 1.5918 | w_dkl loss: 0.0000 | class_accuracy: 0.9067 |\n",
      "epoch 25 out of 100\n",
      "|train step: 750 | rec loss: 0.2309 | z_dkl loss: 0.0006 | class loss: 1.5823 | w_dkl loss: 0.0000 | class_accuracy: 0.9155 |\n",
      "epoch 26 out of 100\n",
      "|train step: 780 | rec loss: 0.2301 | z_dkl loss: 0.0078 | class loss: 1.5787 | w_dkl loss: 0.0000 | class_accuracy: 0.9126 |\n",
      "epoch 27 out of 100\n",
      "|train step: 800 | rec loss: 0.2286 | z_dkl loss: 0.0007 | class loss: 1.5586 | w_dkl loss: 0.0000 | class_accuracy: 0.9341 |\n",
      "|train step: 810 | rec loss: 0.2291 | z_dkl loss: 0.0034 | class loss: 1.5703 | w_dkl loss: 0.0000 | class_accuracy: 0.9189 |\n",
      "epoch 28 out of 100\n",
      "|train step: 840 | rec loss: 0.2281 | z_dkl loss: 0.0020 | class loss: 1.5669 | w_dkl loss: 0.0000 | class_accuracy: 0.9199 |\n",
      "epoch 29 out of 100\n",
      "|train step: 870 | rec loss: 0.2248 | z_dkl loss: 0.0009 | class loss: 1.5739 | w_dkl loss: 0.0000 | class_accuracy: 0.9111 |\n",
      "epoch 30 out of 100\n",
      "|train step: 900 | rec loss: 0.2256 | z_dkl loss: 0.0011 | class loss: 1.5627 | w_dkl loss: 0.0000 | class_accuracy: 0.9189 |\n",
      "\n",
      "epoch 31 out of 100\n",
      "|train step: 930 | rec loss: 0.2232 | z_dkl loss: 0.0012 | class loss: 1.5516 | w_dkl loss: 0.0000 | class_accuracy: 0.9263 |\n",
      "epoch 32 out of 100\n",
      "|train step: 960 | rec loss: 0.2251 | z_dkl loss: 0.0028 | class loss: 1.5614 | w_dkl loss: 0.0000 | class_accuracy: 0.9204 |\n",
      "epoch 33 out of 100\n",
      "|train step: 990 | rec loss: 0.2202 | z_dkl loss: 0.0055 | class loss: 1.5591 | w_dkl loss: 0.0000 | class_accuracy: 0.9189 |\n",
      "epoch 34 out of 100\n",
      "|train step: 1000 | rec loss: 0.2224 | z_dkl loss: 0.0030 | class loss: 1.5458 | w_dkl loss: 0.0000 | class_accuracy: 0.9336 |\n",
      "|train step: 1020 | rec loss: 0.2211 | z_dkl loss: 0.0063 | class loss: 1.5542 | w_dkl loss: 0.0000 | class_accuracy: 0.9277 |\n",
      "epoch 35 out of 100\n",
      "|train step: 1050 | rec loss: 0.2212 | z_dkl loss: 0.0003 | class loss: 1.5487 | w_dkl loss: 0.0000 | class_accuracy: 0.9336 |\n",
      "epoch 36 out of 100\n",
      "|train step: 1080 | rec loss: 0.2186 | z_dkl loss: 0.0029 | class loss: 1.5488 | w_dkl loss: 0.0000 | class_accuracy: 0.9287 |\n",
      "epoch 37 out of 100\n",
      "|train step: 1100 | rec loss: 0.2188 | z_dkl loss: 0.0131 | class loss: 1.5545 | w_dkl loss: 0.0000 | class_accuracy: 0.9277 |\n",
      "|train step: 1110 | rec loss: 0.2182 | z_dkl loss: 0.0054 | class loss: 1.5484 | w_dkl loss: 0.0000 | class_accuracy: 0.9287 |\n",
      "epoch 38 out of 100\n",
      "|train step: 1140 | rec loss: 0.2187 | z_dkl loss: 0.0082 | class loss: 1.5438 | w_dkl loss: 0.0000 | class_accuracy: 0.9355 |\n",
      "epoch 39 out of 100\n",
      "|train step: 1170 | rec loss: 0.2178 | z_dkl loss: 0.0023 | class loss: 1.5432 | w_dkl loss: 0.0000 | class_accuracy: 0.9336 |\n",
      "epoch 40 out of 100\n",
      "|train step: 1200 | rec loss: 0.2152 | z_dkl loss: 0.0094 | class loss: 1.5412 | w_dkl loss: 0.0000 | class_accuracy: 0.9370 |\n",
      "\n",
      "epoch 41 out of 100\n",
      "|train step: 1230 | rec loss: 0.2161 | z_dkl loss: 0.0041 | class loss: 1.5526 | w_dkl loss: 0.0000 | class_accuracy: 0.9180 |\n",
      "epoch 42 out of 100\n",
      "|train step: 1260 | rec loss: 0.2132 | z_dkl loss: 0.0023 | class loss: 1.5383 | w_dkl loss: 0.0000 | class_accuracy: 0.9390 |\n",
      "epoch 43 out of 100\n",
      "|train step: 1290 | rec loss: 0.2135 | z_dkl loss: 0.0004 | class loss: 1.5322 | w_dkl loss: 0.0000 | class_accuracy: 0.9463 |\n",
      "epoch 44 out of 100\n",
      "|train step: 1300 | rec loss: 0.2136 | z_dkl loss: 0.0058 | class loss: 1.5411 | w_dkl loss: 0.0000 | class_accuracy: 0.9360 |\n",
      "|train step: 1320 | rec loss: 0.2133 | z_dkl loss: 0.0032 | class loss: 1.5488 | w_dkl loss: 0.0000 | class_accuracy: 0.9238 |\n",
      "epoch 45 out of 100\n",
      "|train step: 1350 | rec loss: 0.2139 | z_dkl loss: 0.0007 | class loss: 1.5472 | w_dkl loss: 0.0000 | class_accuracy: 0.9238 |\n",
      "epoch 46 out of 100\n",
      "|train step: 1380 | rec loss: 0.2123 | z_dkl loss: 0.0038 | class loss: 1.5439 | w_dkl loss: 0.0000 | class_accuracy: 0.9277 |\n",
      "epoch 47 out of 100\n",
      "|train step: 1400 | rec loss: 0.2116 | z_dkl loss: 0.0005 | class loss: 1.5371 | w_dkl loss: 0.0000 | class_accuracy: 0.9385 |\n",
      "|train step: 1410 | rec loss: 0.2092 | z_dkl loss: 0.0069 | class loss: 1.5364 | w_dkl loss: 0.0000 | class_accuracy: 0.9399 |\n",
      "epoch 48 out of 100\n"
     ]
    },
    {
     "name": "stdout",
     "output_type": "stream",
     "text": [
      "|train step: 1440 | rec loss: 0.2082 | z_dkl loss: 0.0068 | class loss: 1.5347 | w_dkl loss: 0.0000 | class_accuracy: 0.9429 |\n",
      "epoch 49 out of 100\n",
      "|train step: 1470 | rec loss: 0.2100 | z_dkl loss: 0.0032 | class loss: 1.5365 | w_dkl loss: 0.0000 | class_accuracy: 0.9375 |\n",
      "epoch 50 out of 100\n",
      "|train step: 1500 | rec loss: 0.2117 | z_dkl loss: 0.0015 | class loss: 1.5361 | w_dkl loss: 0.0000 | class_accuracy: 0.9355 |\n",
      "\n",
      "epoch 51 out of 100\n",
      "|train step: 1530 | rec loss: 0.2073 | z_dkl loss: 0.0016 | class loss: 1.5304 | w_dkl loss: nan | class_accuracy: 0.9419 |5 |\n",
      "epoch 52 out of 100\n",
      "|train step: 1560 | rec loss: 0.2068 | z_dkl loss: 0.0097 | class loss: 1.5348 | w_dkl loss: nan | class_accuracy: 0.9370 |8 |\n",
      "epoch 53 out of 100\n",
      "|train step: 1590 | rec loss: 0.2068 | z_dkl loss: 0.0041 | class loss: nan | w_dkl loss: nan | class_accuracy: 0.0996 |4 |5 |\n",
      "epoch 54 out of 100\n",
      "|train step: 1600 | rec loss: 0.2074 | z_dkl loss: 0.0010 | class loss: nan | w_dkl loss: nan | class_accuracy: 0.0952 |\n",
      "|train step: 1620 | rec loss: 0.2078 | z_dkl loss: 0.0051 | class loss: nan | w_dkl loss: nan | class_accuracy: 0.0977 |\n",
      "epoch 55 out of 100\n",
      "|train step: 1650 | rec loss: 0.2057 | z_dkl loss: 0.0017 | class loss: nan | w_dkl loss: nan | class_accuracy: 0.0991 |\n",
      "epoch 56 out of 100\n",
      "|train step: 1680 | rec loss: 0.2056 | z_dkl loss: 0.0021 | class loss: nan | w_dkl loss: nan | class_accuracy: 0.1025 |\n",
      "epoch 57 out of 100\n",
      "|train step: 1700 | rec loss: 0.2078 | z_dkl loss: 0.0019 | class loss: nan | w_dkl loss: nan | class_accuracy: 0.1040 |\n",
      "|train step: 1710 | rec loss: 0.2063 | z_dkl loss: 0.0010 | class loss: nan | w_dkl loss: nan | class_accuracy: 0.0991 |\n",
      "epoch 58 out of 100\n",
      "|train step: 1740 | rec loss: 0.2046 | z_dkl loss: 0.0004 | class loss: nan | w_dkl loss: nan | class_accuracy: 0.0962 |\n",
      "epoch 59 out of 100\n",
      "|train step: 1770 | rec loss: 0.2046 | z_dkl loss: 0.0008 | class loss: nan | w_dkl loss: nan | class_accuracy: 0.0977 |\n",
      "epoch 60 out of 100\n",
      "|train step: 1800 | rec loss: 0.2053 | z_dkl loss: 0.0015 | class loss: nan | w_dkl loss: nan | class_accuracy: 0.0928 |\n",
      "\n",
      "epoch 61 out of 100\n",
      "|train step: 1830 | rec loss: 0.2027 | z_dkl loss: 0.0009 | class loss: nan | w_dkl loss: nan | class_accuracy: 0.0933 |\n",
      "epoch 62 out of 100\n",
      "|train step: 1860 | rec loss: 0.2031 | z_dkl loss: 0.0029 | class loss: nan | w_dkl loss: nan | class_accuracy: 0.0918 |\n",
      "epoch 63 out of 100\n",
      "|train step: 1890 | rec loss: 0.2006 | z_dkl loss: 0.0030 | class loss: nan | w_dkl loss: nan | class_accuracy: 0.1045 |\n",
      "epoch 64 out of 100\n",
      "|train step: 1900 | rec loss: 0.2014 | z_dkl loss: 0.0035 | class loss: nan | w_dkl loss: nan | class_accuracy: 0.0977 |\n",
      "|train step: 1920 | rec loss: 0.2029 | z_dkl loss: 0.0016 | class loss: nan | w_dkl loss: nan | class_accuracy: 0.0938 |\n",
      "epoch 65 out of 100\n",
      "|train step: 1950 | rec loss: 0.2023 | z_dkl loss: 0.0024 | class loss: nan | w_dkl loss: nan | class_accuracy: 0.0942 |\n",
      "epoch 66 out of 100\n",
      "|train step: 1980 | rec loss: 0.2001 | z_dkl loss: 0.0031 | class loss: nan | w_dkl loss: nan | class_accuracy: 0.0986 |\n",
      "epoch 67 out of 100\n",
      "|train step: 2000 | rec loss: 0.2004 | z_dkl loss: 0.0057 | class loss: nan | w_dkl loss: nan | class_accuracy: 0.1060 |\n",
      "|train step: 2010 | rec loss: 0.1994 | z_dkl loss: 0.0030 | class loss: nan | w_dkl loss: nan | class_accuracy: 0.0957 |\n",
      "epoch 68 out of 100\n",
      "|train step: 2040 | rec loss: 0.2010 | z_dkl loss: 0.0039 | class loss: nan | w_dkl loss: nan | class_accuracy: 0.1172 |\n",
      "epoch 69 out of 100\n",
      "|train step: 2070 | rec loss: 0.1988 | z_dkl loss: 0.0056 | class loss: nan | w_dkl loss: nan | class_accuracy: 0.0986 |\n",
      "epoch 70 out of 100\n",
      "|train step: 2100 | rec loss: 0.1999 | z_dkl loss: 0.0033 | class loss: nan | w_dkl loss: nan | class_accuracy: 0.1099 |\n",
      "\n",
      "epoch 71 out of 100\n",
      "|train step: 2130 | rec loss: 0.1984 | z_dkl loss: 0.0092 | class loss: nan | w_dkl loss: nan | class_accuracy: 0.0991 |\n",
      "epoch 72 out of 100\n",
      "|train step: 2160 | rec loss: 0.1981 | z_dkl loss: 0.0064 | class loss: nan | w_dkl loss: nan | class_accuracy: 0.1045 |\n",
      "epoch 73 out of 100\n",
      "|train step: 2190 | rec loss: 0.1989 | z_dkl loss: 0.0019 | class loss: nan | w_dkl loss: nan | class_accuracy: 0.0977 |\n",
      "epoch 74 out of 100\n",
      "|train step: 2200 | rec loss: 0.1999 | z_dkl loss: 0.0037 | class loss: nan | w_dkl loss: nan | class_accuracy: 0.0957 |\n",
      "|train step: 2220 | rec loss: 0.1989 | z_dkl loss: 0.0028 | class loss: nan | w_dkl loss: nan | class_accuracy: 0.1094 |\n",
      "epoch 75 out of 100\n",
      "|train step: 2250 | rec loss: 0.1975 | z_dkl loss: 0.0055 | class loss: nan | w_dkl loss: nan | class_accuracy: 0.0952 |\n",
      "epoch 76 out of 100\n",
      "|train step: 2280 | rec loss: 0.1982 | z_dkl loss: 0.0051 | class loss: nan | w_dkl loss: nan | class_accuracy: 0.0918 |\n",
      "epoch 77 out of 100\n",
      "|train step: 2300 | rec loss: 0.1993 | z_dkl loss: 0.0019 | class loss: nan | w_dkl loss: nan | class_accuracy: 0.0991 |\n",
      "|train step: 2310 | rec loss: 0.1972 | z_dkl loss: 0.0043 | class loss: nan | w_dkl loss: nan | class_accuracy: 0.0972 |\n",
      "epoch 78 out of 100\n",
      "|train step: 2340 | rec loss: 0.1969 | z_dkl loss: 0.0062 | class loss: nan | w_dkl loss: nan | class_accuracy: 0.1172 |\n",
      "epoch 79 out of 100\n",
      "|train step: 2370 | rec loss: 0.1973 | z_dkl loss: 0.0037 | class loss: nan | w_dkl loss: nan | class_accuracy: 0.0903 |\n",
      "epoch 80 out of 100\n",
      "|train step: 2400 | rec loss: 0.1970 | z_dkl loss: 0.0030 | class loss: nan | w_dkl loss: nan | class_accuracy: 0.0991 |\n",
      "\n",
      "epoch 81 out of 100\n",
      "|train step: 2430 | rec loss: 0.1982 | z_dkl loss: 0.0112 | class loss: nan | w_dkl loss: nan | class_accuracy: 0.1040 |\n",
      "epoch 82 out of 100\n",
      "|train step: 2460 | rec loss: 0.1968 | z_dkl loss: 0.0047 | class loss: nan | w_dkl loss: nan | class_accuracy: 0.1099 |\n",
      "epoch 83 out of 100\n",
      "|train step: 2490 | rec loss: 0.1962 | z_dkl loss: 0.0032 | class loss: nan | w_dkl loss: nan | class_accuracy: 0.0942 |\n",
      "epoch 84 out of 100\n",
      "|train step: 2500 | rec loss: 0.1932 | z_dkl loss: 0.0192 | class loss: nan | w_dkl loss: nan | class_accuracy: 0.1001 |\n",
      "|train step: 2520 | rec loss: 0.1955 | z_dkl loss: 0.0027 | class loss: nan | w_dkl loss: nan | class_accuracy: 0.0967 |\n",
      "epoch 85 out of 100\n",
      "|train step: 2550 | rec loss: 0.1962 | z_dkl loss: 0.0041 | class loss: nan | w_dkl loss: nan | class_accuracy: 0.0996 |\n",
      "epoch 86 out of 100\n",
      "|train step: 2580 | rec loss: 0.1957 | z_dkl loss: 0.0061 | class loss: nan | w_dkl loss: nan | class_accuracy: 0.1016 |\n",
      "epoch 87 out of 100\n",
      "|train step: 2600 | rec loss: 0.1944 | z_dkl loss: 0.0098 | class loss: nan | w_dkl loss: nan | class_accuracy: 0.0825 |\n",
      "|train step: 2610 | rec loss: 0.1949 | z_dkl loss: 0.0021 | class loss: nan | w_dkl loss: nan | class_accuracy: 0.0898 |\n",
      "epoch 88 out of 100\n",
      "|train step: 2640 | rec loss: 0.1952 | z_dkl loss: 0.0014 | class loss: nan | w_dkl loss: nan | class_accuracy: 0.0913 |\n",
      "epoch 89 out of 100\n",
      "|train step: 2670 | rec loss: 0.1959 | z_dkl loss: 0.0011 | class loss: nan | w_dkl loss: nan | class_accuracy: 0.1011 |\n",
      "epoch 90 out of 100\n",
      "|train step: 2700 | rec loss: 0.1955 | z_dkl loss: 0.0010 | class loss: nan | w_dkl loss: nan | class_accuracy: 0.0908 |\n",
      "\n",
      "epoch 91 out of 100\n",
      "|train step: 2730 | rec loss: 0.1941 | z_dkl loss: 0.0041 | class loss: nan | w_dkl loss: nan | class_accuracy: 0.1045 |\n",
      "epoch 92 out of 100\n",
      "|train step: 2760 | rec loss: 0.1937 | z_dkl loss: 0.0022 | class loss: nan | w_dkl loss: nan | class_accuracy: 0.1035 |\n",
      "epoch 93 out of 100\n",
      "|train step: 2790 | rec loss: 0.1925 | z_dkl loss: 0.0131 | class loss: nan | w_dkl loss: nan | class_accuracy: 0.1040 |\n",
      "epoch 94 out of 100\n",
      "|train step: 2800 | rec loss: 0.1939 | z_dkl loss: 0.0088 | class loss: nan | w_dkl loss: nan | class_accuracy: 0.0972 |\n",
      "|train step: 2820 | rec loss: 0.1923 | z_dkl loss: 0.0044 | class loss: nan | w_dkl loss: nan | class_accuracy: 0.1011 |\n",
      "epoch 95 out of 100\n",
      "|train step: 2850 | rec loss: 0.1940 | z_dkl loss: 0.0020 | class loss: nan | w_dkl loss: nan | class_accuracy: 0.0947 |\n",
      "epoch 96 out of 100\n",
      "|train step: 2880 | rec loss: 0.1929 | z_dkl loss: 0.0085 | class loss: nan | w_dkl loss: nan | class_accuracy: 0.0981 |\n",
      "epoch 97 out of 100\n",
      "|train step: 2900 | rec loss: 0.1927 | z_dkl loss: 0.0033 | class loss: nan | w_dkl loss: nan | class_accuracy: 0.0903 |\n"
     ]
    },
    {
     "name": "stdout",
     "output_type": "stream",
     "text": [
      "|train step: 2910 | rec loss: 0.1941 | z_dkl loss: 0.0043 | class loss: nan | w_dkl loss: nan | class_accuracy: 0.0972 |\n",
      "epoch 98 out of 100\n",
      "|train step: 2940 | rec loss: 0.1912 | z_dkl loss: 0.0038 | class loss: nan | w_dkl loss: nan | class_accuracy: 0.0947 |\n",
      "epoch 99 out of 100\n",
      "|train step: 2970 | rec loss: 0.1907 | z_dkl loss: 0.0032 | class loss: nan | w_dkl loss: nan | class_accuracy: 0.0996 |\n",
      "epoch 100 out of 100\n",
      "|train step: 3000 | rec loss: 0.1913 | z_dkl loss: 0.0102 | class loss: nan | w_dkl loss: nan | class_accuracy: 0.1123 |\n",
      "*****Finished with the final loss:  Losses(rec_loss=tensor(0.1913, grad_fn=<BinaryCrossEntropyBackward>), z_dkl_loss=tensor(0.0102, grad_fn=<MulBackward>), class_loss_0=tensor(nan, grad_fn=<NllLossBackward>), w_dkl_loss_0=tensor(nan, grad_fn=<MulBackward>))\n"
=======
      "epoch 1 out of 5\n",
      "|train step: 100 | rec loss: 0.4849 | z_dkl loss: 0.0010 | class loss: 2.3146 | w_dkl loss: 0.0060 | class_accuracy: 0.0900 |\n",
      "|train step: 200 | rec loss: 0.3642 | z_dkl loss: 0.0008 | class loss: 2.2904 | w_dkl loss: 0.0050 | class_accuracy: 0.1200 |\n",
      "|train step: 300 | rec loss: 0.3062 | z_dkl loss: 0.0006 | class loss: 2.3173 | w_dkl loss: 0.0051 | class_accuracy: 0.1200 |\n",
      "|train step: 400 | rec loss: 0.2884 | z_dkl loss: 0.0004 | class loss: 2.3036 | w_dkl loss: 0.0043 | class_accuracy: 0.1000 |\n",
      "|train step: 500 | rec loss: 0.2660 | z_dkl loss: 0.0003 | class loss: 2.3059 | w_dkl loss: 0.0040 | class_accuracy: 0.1000 |\n",
      "|train step: 600 | rec loss: 0.2584 | z_dkl loss: 0.0002 | class loss: 2.2848 | w_dkl loss: 0.0046 | class_accuracy: 0.1200 |\n",
      "|train step: 630 | rec loss: 0.2569 | z_dkl loss: 0.0002 | class loss: 2.3032 | w_dkl loss: 0.0049 | class_accuracy: 0.1000 |\n",
      "epoch 2 out of 5\n",
      "|train step: 700 | rec loss: 0.2567 | z_dkl loss: 0.0002 | class loss: 2.3092 | w_dkl loss: 0.0046 | class_accuracy: 0.1200 |\n",
      "|train step: 800 | rec loss: 0.2530 | z_dkl loss: 0.0002 | class loss: 2.3020 | w_dkl loss: 0.0048 | class_accuracy: 0.1200 |\n",
      "|train step: 900 | rec loss: 0.2457 | z_dkl loss: 0.0001 | class loss: 2.2950 | w_dkl loss: 0.0039 | class_accuracy: 0.1400 |\n",
      "|train step: 1000 | rec loss: 0.2432 | z_dkl loss: 0.0002 | class loss: 2.2998 | w_dkl loss: 0.0044 | class_accuracy: 0.1200 |\n",
      "|train step: 1100 | rec loss: 0.2426 | z_dkl loss: 0.0002 | class loss: 2.2867 | w_dkl loss: 0.0039 | class_accuracy: 0.1300 |\n",
      "|train step: 1200 | rec loss: 0.2348 | z_dkl loss: 0.0001 | class loss: 2.3158 | w_dkl loss: 0.0039 | class_accuracy: 0.0900 |\n",
      "|train step: 1260 | rec loss: 0.2264 | z_dkl loss: 0.0001 | class loss: 2.3064 | w_dkl loss: 0.0040 | class_accuracy: 0.0900 |\n",
      "epoch 3 out of 5\n",
      "|train step: 1300 | rec loss: 0.2274 | z_dkl loss: 0.0001 | class loss: 2.2868 | w_dkl loss: 0.0044 | class_accuracy: 0.1700 |\n",
      "|train step: 1400 | rec loss: 0.2386 | z_dkl loss: 0.0001 | class loss: 2.2936 | w_dkl loss: 0.0041 | class_accuracy: 0.1100 |\n",
      "|train step: 1500 | rec loss: 0.2322 | z_dkl loss: 0.0001 | class loss: 2.2912 | w_dkl loss: 0.0043 | class_accuracy: 0.1700 |\n",
      "|train step: 1600 | rec loss: 0.2302 | z_dkl loss: 0.0001 | class loss: 2.3045 | w_dkl loss: 0.0042 | class_accuracy: 0.0900 |\n",
      "|train step: 1700 | rec loss: 0.2235 | z_dkl loss: 0.0001 | class loss: 2.3003 | w_dkl loss: 0.0045 | class_accuracy: 0.1100 |\n",
      "|train step: 1800 | rec loss: 0.2271 | z_dkl loss: 0.0001 | class loss: 2.3045 | w_dkl loss: 0.0041 | class_accuracy: 0.1000 |\n",
      "|train step: 1890 | rec loss: 0.2324 | z_dkl loss: 0.0001 | class loss: 2.3114 | w_dkl loss: 0.0040 | class_accuracy: 0.0800 |\n",
      "epoch 4 out of 5\n",
      "|train step: 1900 | rec loss: 0.2235 | z_dkl loss: 0.0001 | class loss: 2.3096 | w_dkl loss: 0.0041 | class_accuracy: 0.1200 |\n",
      "|train step: 2000 | rec loss: 0.2262 | z_dkl loss: 0.0001 | class loss: 2.2803 | w_dkl loss: 0.0045 | class_accuracy: 0.2000 |\n",
      "|train step: 2100 | rec loss: 0.2374 | z_dkl loss: 0.0001 | class loss: 2.3026 | w_dkl loss: 0.0037 | class_accuracy: 0.1200 |\n",
      "|train step: 2200 | rec loss: 0.2272 | z_dkl loss: 0.0001 | class loss: 2.2879 | w_dkl loss: 0.0040 | class_accuracy: 0.1100 |\n",
      "|train step: 2300 | rec loss: 0.2281 | z_dkl loss: 0.0000 | class loss: 2.2978 | w_dkl loss: 0.0044 | class_accuracy: 0.1300 |\n",
      "|train step: 2400 | rec loss: 0.2259 | z_dkl loss: 0.0000 | class loss: 2.2827 | w_dkl loss: 0.0040 | class_accuracy: 0.1300 |\n",
      "|train step: 2500 | rec loss: 0.2248 | z_dkl loss: 0.0000 | class loss: 2.2858 | w_dkl loss: 0.0040 | class_accuracy: 0.1800 |\n",
      "|train step: 2520 | rec loss: 0.2259 | z_dkl loss: 0.0000 | class loss: 2.3026 | w_dkl loss: 0.0042 | class_accuracy: 0.1300 |\n",
      "epoch 5 out of 5\n",
      "|train step: 2600 | rec loss: 0.2199 | z_dkl loss: 0.0000 | class loss: 2.2957 | w_dkl loss: 0.0044 | class_accuracy: 0.1000 |\n",
      "|train step: 2700 | rec loss: 0.2091 | z_dkl loss: 0.0000 | class loss: 2.3125 | w_dkl loss: 0.0042 | class_accuracy: 0.1300 |\n",
      "|train step: 2800 | rec loss: 0.2183 | z_dkl loss: 0.0000 | class loss: 2.3157 | w_dkl loss: 0.0041 | class_accuracy: 0.0700 |\n",
      "|train step: 2900 | rec loss: 0.2238 | z_dkl loss: 0.0000 | class loss: 2.2748 | w_dkl loss: 0.0041 | class_accuracy: 0.1900 |\n",
      "|train step: 3000 | rec loss: 0.2168 | z_dkl loss: 0.0000 | class loss: 2.2948 | w_dkl loss: 0.0039 | class_accuracy: 0.1300 |\n",
      "|train step: 3100 | rec loss: 0.2208 | z_dkl loss: 0.0000 | class loss: 2.3003 | w_dkl loss: 0.0044 | class_accuracy: 0.1000 |\n",
      "|train step: 3150 | rec loss: 0.2254 | z_dkl loss: 0.0000 | class loss: 2.3107 | w_dkl loss: 0.0044 | class_accuracy: 0.1100 |*****Finished with the final loss:  Losses(rec_loss=tensor(0.2254, grad_fn=<BinaryCrossEntropyBackward>), z_dkl_loss=tensor(0.0000, grad_fn=<DivBackward0>), class_loss_0=tensor(2.3107, grad_fn=<NllLossBackward>), w_dkl_loss_0=tensor(0.0044, grad_fn=<DivBackward0>))\n"
>>>>>>> parent of 1643c55... DS: best cl_vae so far
     ]
    }
   ],
   "source": [
    "save_each_steps = 500\n",
    "\n",
    "# Train loop\n",
    "train_step_i = 0\n",
    "for epoch in range(params['num_epochs']):\n",
    "    print('\\nepoch {} out of {}'.format(epoch + 1, params['num_epochs']))\n",
    "    for i in range(X_train.shape[0] // params['batch_size']):\n",
    "        # Sample batch\n",
    "        idx = random.choice(np.arange(0, X_train.shape[0]), params['batch_size'])\n",
    "        x_batch = torch.from_numpy(X_train[idx]).float()\n",
    "        y_batch = lb.transform(y_train[idx])\n",
    "        y_batch = [torch.from_numpy(y_batch).float()]\n",
    "        step_losses, step_accuracies = model.train_step(x_batch, y_batch)\n",
    "\n",
    "#         step_losses = [loss.sum().detach().numpy() for loss in step_losses]\n",
    "        # step_losses = Losses(*step_losses)\n",
    "        # step_accuracies = Accuracies(*step_accuracies)\n",
    "\n",
    "        train_losses.append(step_losses)\n",
    "        train_accuracies.append(step_accuracies)\n",
    "\n",
    "        train_step_i += 1\n",
    "\n",
    "        print(\"\\r|train step: {} | rec loss: {:.4f} | z_dkl loss: {:.4f} | class loss: {:.4f}\"\n",
    "              \" | w_dkl loss: {:.4f} | class_accuracy: {:.4f} |\".format(\n",
    "            train_step_i, *step_losses, *step_accuracies\n",
    "            ), end='')\n",
    "        if train_step_i % 100 == 0:\n",
    "            print()\n",
    "        if train_step_i % save_each_steps == 0:\n",
    "            dt = str(datetime.datetime.now().strftime(\"%m_%d_%Y_%I_%M_%p\"))\n",
    "            fname = params['model_dir'] + '/cl_vae_mnist_{}.pt'.format(dt)\n",
    "            model.save_ckpt(fname)\n",
    "print('*****Finished with the final loss: ', step_losses)"
   ]
  },
  {
   "cell_type": "markdown",
   "metadata": {},
   "source": [
    "## 5 - Show losses graph"
   ]
  },
  {
   "cell_type": "code",
<<<<<<< HEAD
   "execution_count": null,
   "metadata": {
    "scrolled": false
   },
   "outputs": [],
=======
   "execution_count": 6,
   "metadata": {},
   "outputs": [
    {
     "name": "stdout",
     "output_type": "stream",
     "text": [
      "('rec_loss', 'z_dkl_loss', 'class_loss_0', 'w_dkl_loss_0')\n",
      "tensor(0.6937, grad_fn=<BinaryCrossEntropyBackward>) tensor(0.0099, grad_fn=<DivBackward0>) tensor(2.3087, grad_fn=<NllLossBackward>) tensor(0.0493, grad_fn=<DivBackward0>)\n"
     ]
    },
    {
     "data": {
      "image/png": "iVBORw0KGgoAAAANSUhEUgAAAXcAAAEICAYAAACktLTqAAAABHNCSVQICAgIfAhkiAAAAAlwSFlz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\nRGKQwl1EJAb9P1Tr6zGR4mezAAAAAElFTkSuQmCC\n",
      "text/plain": [
       "<matplotlib.figure.Figure at 0x2e549780>"
      ]
     },
     "metadata": {},
     "output_type": "display_data"
    },
    {
     "data": {
      "image/png": "iVBORw0KGgoAAAANSUhEUgAAAYQAAAEICAYAAABfz4NwAAAABHNCSVQICAgIfAhkiAAAAAlwSFlz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\nAElFTkSuQmCC\n",
      "text/plain": [
       "<matplotlib.figure.Figure at 0x4c78ceb8>"
      ]
     },
     "metadata": {},
     "output_type": "display_data"
    },
    {
     "data": {
      "image/png": "iVBORw0KGgoAAAANSUhEUgAAAX4AAAEICAYAAABYoZ8gAAAABHNCSVQICAgIfAhkiAAAAAlwSFlz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\nhKx/AAAAAElFTkSuQmCC\n",
      "text/plain": [
       "<matplotlib.figure.Figure at 0x4cc005c0>"
      ]
     },
     "metadata": {},
     "output_type": "display_data"
    },
    {
     "data": {
      "image/png": "iVBORw0KGgoAAAANSUhEUgAAAX0AAAEICAYAAACzliQjAAAABHNCSVQICAgIfAhkiAAAAAlwSFlz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\n",
      "text/plain": [
       "<matplotlib.figure.Figure at 0x4cc3cc88>"
      ]
     },
     "metadata": {},
     "output_type": "display_data"
    }
   ],
>>>>>>> parent of 1643c55... DS: best cl_vae so far
   "source": [
    "%matplotlib inline\n",
    "losses = defaultdict(list)\n",
    "losses_names = train_losses[0]._fields\n",
    "print(losses_names)\n",
    "step_loss = train_losses[0]\n",
    "print(*step_loss)\n",
    "for i, loss_name in enumerate(losses_names):\n",
    "    losses[loss_name] = [l[i] for l in train_losses]\n",
    "    plt.figure()\n",
    "    plt.title(loss_name)\n",
    "    plt.plot(losses[loss_name])\n",
    "    plt.legend()\n",
    "plt.show()"
   ]
  },
  {
   "cell_type": "markdown",
   "metadata": {},
   "source": [
    "## 6 - Test"
   ]
  },
  {
   "cell_type": "code",
<<<<<<< HEAD
   "execution_count": null,
   "metadata": {
    "scrolled": true
   },
   "outputs": [],
=======
   "execution_count": 11,
   "metadata": {
    "scrolled": true
   },
   "outputs": [
    {
     "name": "stdout",
     "output_type": "stream",
     "text": [
      "Losses(rec_loss=tensor(0.2668), z_dkl_loss=tensor(0.0000), class_loss_0=tensor(2.3001), w_dkl_loss_0=tensor(0.0041))\n"
     ]
    }
   ],
>>>>>>> parent of 1643c55... DS: best cl_vae so far
   "source": [
    "y_test = lb.transform(y_test)\n",
    "losses, acc = model.test(torch.from_numpy(X_test).float(), [torch.from_numpy(y_test).float()])\n",
    "pprint.PrettyPrinter(indent=4).pprint(losses)"
   ]
  },
  {
   "cell_type": "markdown",
   "metadata": {},
   "source": [
    "## 7 - Examples"
   ]
  },
  {
   "cell_type": "code",
   "execution_count": null,
   "metadata": {},
   "outputs": [],
   "source": [
    "#TODO\n",
    "\n"
   ]
  }
 ],
 "metadata": {
  "kernelspec": {
   "display_name": "Python 3",
   "language": "python",
   "name": "python3"
  },
  "language_info": {
   "codemirror_mode": {
    "name": "ipython",
    "version": 3
   },
   "file_extension": ".py",
   "mimetype": "text/x-python",
   "name": "python",
   "nbconvert_exporter": "python",
   "pygments_lexer": "ipython3",
   "version": "3.6.3"
  }
 },
 "nbformat": 4,
 "nbformat_minor": 1
}
