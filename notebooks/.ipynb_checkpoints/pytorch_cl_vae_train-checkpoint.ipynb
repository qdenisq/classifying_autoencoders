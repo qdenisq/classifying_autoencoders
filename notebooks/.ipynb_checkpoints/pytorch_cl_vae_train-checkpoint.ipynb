{
 "cells": [
  {
   "cell_type": "markdown",
   "metadata": {
    "collapsed": true
   },
   "source": [
    "# Basic Classifying VAE for MNIST Database"
   ]
  },
  {
   "cell_type": "code",
   "execution_count": 1,
   "metadata": {},
   "outputs": [],
   "source": [
    "from sklearn.datasets import fetch_mldata\n",
    "from sklearn.model_selection import train_test_split\n",
    "from sklearn import preprocessing\n",
    "import torch\n",
    "import pprint\n",
    "import numpy as np\n",
    "import numpy.random as random\n",
    "import datetime\n",
    "from src.pytorch_cl_vae.model import ClVaeModel\n",
    "import matplotlib.pyplot as plt\n",
    "from collections import defaultdict"
   ]
  },
  {
   "cell_type": "markdown",
   "metadata": {},
   "source": [
    "## 1 - Specify parameters for to the VAE and training"
   ]
  },
  {
   "cell_type": "code",
   "execution_count": 2,
   "metadata": {},
   "outputs": [],
   "source": [
    "params = {\n",
    "    'batch_size': 2048,\n",
    "    'num_epochs': 300,\n",
    "    'latent_dim': 2,\n",
    "    'encoder_hidden_size': 256,\n",
    "    'decoder_hidden_size': 256,\n",
    "    'classifier_hidden_size': 256,\n",
    "    'vae_learning_rate': 0.001,\n",
    "    'classifier_learning_rate': 0.001,\n",
    "    'log_dir': '../data/logs',\n",
    "    'model_dir': '../data/models',\n",
    "    'data_dir': '../data'\n",
    "}"
   ]
  },
  {
   "cell_type": "markdown",
   "metadata": {},
   "source": [
    "## 2 - Fetch MNIST"
   ]
  },
  {
   "cell_type": "code",
   "execution_count": 3,
   "metadata": {},
   "outputs": [
    {
     "name": "stdout",
     "output_type": "stream",
     "text": [
      "MNIST db has been successfully loaded, stored in the: \"../data/mldata\"\n",
      "| Train subset shape:(63000, 784) | Test subset shape:(7000, 784) |\n"
     ]
    }
   ],
   "source": [
    "mnist = fetch_mldata('MNIST original', data_home=params['data_dir'])\n",
    "mnist.data = mnist.data / 255\n",
    "num_samples, input_dim = mnist.data.shape\n",
    "num_classes = len(np.unique(mnist.target))\n",
    "lb = preprocessing.LabelBinarizer()\n",
    "lb.fit(mnist.target)\n",
    "params['classes_dim'] = [num_classes]\n",
    "params['original_dim'] = input_dim\n",
    "print('MNIST db has been successfully loaded, stored in the: \"{}\"'.format(params['data_dir'] + '/mldata'))\n",
    "# split data to train and test subsets\n",
    "X_train, X_test, y_train, y_test = train_test_split(mnist.data, mnist.target, test_size=0.1, random_state=0)\n",
    "print(\"| Train subset shape:{} | Test subset shape:{} |\".format(X_train.shape, X_test.shape))"
   ]
  },
  {
   "cell_type": "markdown",
   "metadata": {},
   "source": [
    "## 3 - Create Model"
   ]
  },
  {
   "cell_type": "code",
   "execution_count": 4,
   "metadata": {},
   "outputs": [
    {
     "name": "stdout",
     "output_type": "stream",
     "text": [
      "Model successfully initialized with params: \n",
      "{   'batch_size': 2048,\n",
      "    'classes_dim': [10],\n",
      "    'classifier_hidden_size': 512,\n",
      "    'classifier_learning_rate': 0.0001,\n",
      "    'data_dir': '../data',\n",
      "    'decoder_hidden_size': 512,\n",
      "    'encoder_hidden_size': 512,\n",
      "    'latent_dim': 2,\n",
      "    'log_dir': '../data/logs',\n",
      "    'model_dir': '../data/models',\n",
      "    'num_epochs': 100,\n",
      "    'original_dim': 784,\n",
      "    'vae_learning_rate': 0.0001}\n"
     ]
    }
   ],
   "source": [
    "# Initialize ClVaeModel\n",
    "model = ClVaeModel(**params)\n",
    "print(\"Model successfully initialized with params: \")\n",
    "pprint.PrettyPrinter(indent=4).pprint(params)\n",
    "\n",
    "train_losses = []\n",
    "train_accuracies = []"
   ]
  },
  {
   "cell_type": "markdown",
   "metadata": {},
   "source": [
    "## 4 - Train"
   ]
  },
  {
   "cell_type": "code",
   "execution_count": 5,
   "metadata": {
    "scrolled": false
   },
   "outputs": [
    {
     "name": "stdout",
     "output_type": "stream",
     "text": [
      "\n",
      "epoch 1 out of 100\n",
      "|train step: 30 | rec loss: 0.6270 | z_dkl loss: 0.0001 | class loss: 2.2528 | w_dkl loss: 0.0000 | class_accuracy: 0.2153 |\n",
      "epoch 2 out of 100\n",
      "|train step: 60 | rec loss: 0.5634 | z_dkl loss: 0.0002 | class loss: 2.1307 | w_dkl loss: 0.0000 | class_accuracy: 0.4287 |\n",
      "epoch 3 out of 100\n",
      "|train step: 90 | rec loss: 0.5076 | z_dkl loss: 0.0006 | class loss: 1.9839 | w_dkl loss: 0.0000 | class_accuracy: 0.6016 |\n",
      "epoch 4 out of 100\n",
      "|train step: 100 | rec loss: 0.4911 | z_dkl loss: 0.0006 | class loss: 1.9392 | w_dkl loss: 0.0000 | class_accuracy: 0.6558 |\n",
      "|train step: 120 | rec loss: 0.4566 | z_dkl loss: 0.0008 | class loss: 1.8722 | w_dkl loss: 0.0000 | class_accuracy: 0.6973 |\n",
      "epoch 5 out of 100\n",
      "|train step: 150 | rec loss: 0.4141 | z_dkl loss: 0.0001 | class loss: 1.7944 | w_dkl loss: 0.0000 | class_accuracy: 0.7690 |\n",
      "epoch 6 out of 100\n",
      "|train step: 180 | rec loss: 0.3733 | z_dkl loss: 0.0040 | class loss: 1.7489 | w_dkl loss: 0.0000 | class_accuracy: 0.7881 |\n",
      "epoch 7 out of 100\n",
      "|train step: 200 | rec loss: 0.3529 | z_dkl loss: 0.0049 | class loss: 1.7291 | w_dkl loss: 0.0000 | class_accuracy: 0.8022 |\n",
      "|train step: 210 | rec loss: 0.3488 | z_dkl loss: 0.0010 | class loss: 1.7297 | w_dkl loss: 0.0000 | class_accuracy: 0.7944 |\n",
      "epoch 8 out of 100\n",
      "|train step: 240 | rec loss: 0.3233 | z_dkl loss: 0.0007 | class loss: 1.7146 | w_dkl loss: 0.0000 | class_accuracy: 0.8003 |\n",
      "epoch 9 out of 100\n",
      "|train step: 270 | rec loss: 0.3066 | z_dkl loss: 0.0051 | class loss: 1.6917 | w_dkl loss: 0.0000 | class_accuracy: 0.8125 |\n",
      "epoch 10 out of 100\n",
      "|train step: 300 | rec loss: 0.2936 | z_dkl loss: 0.0038 | class loss: 1.6926 | w_dkl loss: 0.0000 | class_accuracy: 0.8066 |\n",
      "\n",
      "epoch 11 out of 100\n",
      "|train step: 330 | rec loss: 0.2844 | z_dkl loss: 0.0080 | class loss: 1.6738 | w_dkl loss: 0.0000 | class_accuracy: 0.8242 |\n",
      "epoch 12 out of 100\n",
      "|train step: 360 | rec loss: 0.2770 | z_dkl loss: 0.0006 | class loss: 1.6685 | w_dkl loss: 0.0000 | class_accuracy: 0.8169 |\n",
      "epoch 13 out of 100\n",
      "|train step: 390 | rec loss: 0.2712 | z_dkl loss: 0.0018 | class loss: 1.6672 | w_dkl loss: 0.0000 | class_accuracy: 0.8198 |\n",
      "epoch 14 out of 100\n",
      "|train step: 400 | rec loss: 0.2658 | z_dkl loss: 0.0007 | class loss: 1.6550 | w_dkl loss: 0.0000 | class_accuracy: 0.8315 |\n",
      "|train step: 420 | rec loss: 0.2631 | z_dkl loss: 0.0009 | class loss: 1.6655 | w_dkl loss: 0.0000 | class_accuracy: 0.8208 |\n",
      "epoch 15 out of 100\n",
      "|train step: 450 | rec loss: 0.2606 | z_dkl loss: 0.0013 | class loss: 1.6460 | w_dkl loss: 0.0000 | class_accuracy: 0.8398 |\n",
      "epoch 16 out of 100\n",
      "|train step: 480 | rec loss: 0.2554 | z_dkl loss: 0.0010 | class loss: 1.6522 | w_dkl loss: 0.0000 | class_accuracy: 0.8286 |\n",
      "epoch 17 out of 100\n",
      "|train step: 500 | rec loss: 0.2533 | z_dkl loss: 0.0015 | class loss: 1.6376 | w_dkl loss: 0.0000 | class_accuracy: 0.8447 |\n",
      "|train step: 510 | rec loss: 0.2521 | z_dkl loss: 0.0052 | class loss: 1.6388 | w_dkl loss: 0.0000 | class_accuracy: 0.8403 |\n",
      "epoch 18 out of 100\n",
      "|train step: 540 | rec loss: 0.2485 | z_dkl loss: 0.0004 | class loss: 1.6542 | w_dkl loss: 0.0000 | class_accuracy: 0.8262 |\n",
      "epoch 19 out of 100\n",
      "|train step: 570 | rec loss: 0.2462 | z_dkl loss: 0.0025 | class loss: 1.6425 | w_dkl loss: 0.0000 | class_accuracy: 0.8354 |\n",
      "epoch 20 out of 100\n",
      "|train step: 600 | rec loss: 0.2424 | z_dkl loss: 0.0043 | class loss: 1.6382 | w_dkl loss: 0.0000 | class_accuracy: 0.8428 |\n",
      "\n",
      "epoch 21 out of 100\n",
      "|train step: 630 | rec loss: 0.2431 | z_dkl loss: 0.0034 | class loss: 1.6429 | w_dkl loss: 0.0000 | class_accuracy: 0.8345 |\n",
      "epoch 22 out of 100\n",
      "|train step: 660 | rec loss: 0.2377 | z_dkl loss: 0.0022 | class loss: 1.6347 | w_dkl loss: 0.0000 | class_accuracy: 0.8350 |\n",
      "epoch 23 out of 100\n",
      "|train step: 690 | rec loss: 0.2368 | z_dkl loss: 0.0020 | class loss: 1.6258 | w_dkl loss: 0.0000 | class_accuracy: 0.8535 |\n",
      "epoch 24 out of 100\n",
      "|train step: 700 | rec loss: 0.2366 | z_dkl loss: 0.0023 | class loss: 1.6127 | w_dkl loss: 0.0000 | class_accuracy: 0.8809 |\n",
      "|train step: 720 | rec loss: 0.2348 | z_dkl loss: 0.0066 | class loss: 1.5918 | w_dkl loss: 0.0000 | class_accuracy: 0.9067 |\n",
      "epoch 25 out of 100\n",
      "|train step: 750 | rec loss: 0.2309 | z_dkl loss: 0.0006 | class loss: 1.5823 | w_dkl loss: 0.0000 | class_accuracy: 0.9155 |\n",
      "epoch 26 out of 100\n",
      "|train step: 780 | rec loss: 0.2301 | z_dkl loss: 0.0078 | class loss: 1.5787 | w_dkl loss: 0.0000 | class_accuracy: 0.9126 |\n",
      "epoch 27 out of 100\n",
      "|train step: 800 | rec loss: 0.2286 | z_dkl loss: 0.0007 | class loss: 1.5586 | w_dkl loss: 0.0000 | class_accuracy: 0.9341 |\n",
      "|train step: 810 | rec loss: 0.2291 | z_dkl loss: 0.0034 | class loss: 1.5703 | w_dkl loss: 0.0000 | class_accuracy: 0.9189 |\n",
      "epoch 28 out of 100\n",
      "|train step: 840 | rec loss: 0.2281 | z_dkl loss: 0.0020 | class loss: 1.5669 | w_dkl loss: 0.0000 | class_accuracy: 0.9199 |\n",
      "epoch 29 out of 100\n",
      "|train step: 870 | rec loss: 0.2248 | z_dkl loss: 0.0009 | class loss: 1.5739 | w_dkl loss: 0.0000 | class_accuracy: 0.9111 |\n",
      "epoch 30 out of 100\n",
      "|train step: 900 | rec loss: 0.2256 | z_dkl loss: 0.0011 | class loss: 1.5627 | w_dkl loss: 0.0000 | class_accuracy: 0.9189 |\n",
      "\n",
      "epoch 31 out of 100\n",
      "|train step: 930 | rec loss: 0.2232 | z_dkl loss: 0.0012 | class loss: 1.5516 | w_dkl loss: 0.0000 | class_accuracy: 0.9263 |\n",
      "epoch 32 out of 100\n",
      "|train step: 960 | rec loss: 0.2251 | z_dkl loss: 0.0028 | class loss: 1.5614 | w_dkl loss: 0.0000 | class_accuracy: 0.9204 |\n",
      "epoch 33 out of 100\n",
      "|train step: 990 | rec loss: 0.2202 | z_dkl loss: 0.0055 | class loss: 1.5591 | w_dkl loss: 0.0000 | class_accuracy: 0.9189 |\n",
      "epoch 34 out of 100\n",
      "|train step: 1000 | rec loss: 0.2224 | z_dkl loss: 0.0030 | class loss: 1.5458 | w_dkl loss: 0.0000 | class_accuracy: 0.9336 |\n",
      "|train step: 1020 | rec loss: 0.2211 | z_dkl loss: 0.0063 | class loss: 1.5542 | w_dkl loss: 0.0000 | class_accuracy: 0.9277 |\n",
      "epoch 35 out of 100\n",
      "|train step: 1050 | rec loss: 0.2212 | z_dkl loss: 0.0003 | class loss: 1.5487 | w_dkl loss: 0.0000 | class_accuracy: 0.9336 |\n",
      "epoch 36 out of 100\n",
      "|train step: 1080 | rec loss: 0.2186 | z_dkl loss: 0.0029 | class loss: 1.5488 | w_dkl loss: 0.0000 | class_accuracy: 0.9287 |\n",
      "epoch 37 out of 100\n",
      "|train step: 1100 | rec loss: 0.2188 | z_dkl loss: 0.0131 | class loss: 1.5545 | w_dkl loss: 0.0000 | class_accuracy: 0.9277 |\n",
      "|train step: 1110 | rec loss: 0.2182 | z_dkl loss: 0.0054 | class loss: 1.5484 | w_dkl loss: 0.0000 | class_accuracy: 0.9287 |\n",
      "epoch 38 out of 100\n",
      "|train step: 1140 | rec loss: 0.2187 | z_dkl loss: 0.0082 | class loss: 1.5438 | w_dkl loss: 0.0000 | class_accuracy: 0.9355 |\n",
      "epoch 39 out of 100\n",
      "|train step: 1170 | rec loss: 0.2178 | z_dkl loss: 0.0023 | class loss: 1.5432 | w_dkl loss: 0.0000 | class_accuracy: 0.9336 |\n",
      "epoch 40 out of 100\n",
      "|train step: 1200 | rec loss: 0.2152 | z_dkl loss: 0.0094 | class loss: 1.5412 | w_dkl loss: 0.0000 | class_accuracy: 0.9370 |\n",
      "\n",
      "epoch 41 out of 100\n",
      "|train step: 1230 | rec loss: 0.2161 | z_dkl loss: 0.0041 | class loss: 1.5526 | w_dkl loss: 0.0000 | class_accuracy: 0.9180 |\n",
      "epoch 42 out of 100\n",
      "|train step: 1260 | rec loss: 0.2132 | z_dkl loss: 0.0023 | class loss: 1.5383 | w_dkl loss: 0.0000 | class_accuracy: 0.9390 |\n",
      "epoch 43 out of 100\n",
      "|train step: 1290 | rec loss: 0.2135 | z_dkl loss: 0.0004 | class loss: 1.5322 | w_dkl loss: 0.0000 | class_accuracy: 0.9463 |\n",
      "epoch 44 out of 100\n",
      "|train step: 1300 | rec loss: 0.2136 | z_dkl loss: 0.0058 | class loss: 1.5411 | w_dkl loss: 0.0000 | class_accuracy: 0.9360 |\n",
      "|train step: 1320 | rec loss: 0.2133 | z_dkl loss: 0.0032 | class loss: 1.5488 | w_dkl loss: 0.0000 | class_accuracy: 0.9238 |\n",
      "epoch 45 out of 100\n",
      "|train step: 1350 | rec loss: 0.2139 | z_dkl loss: 0.0007 | class loss: 1.5472 | w_dkl loss: 0.0000 | class_accuracy: 0.9238 |\n",
      "epoch 46 out of 100\n",
      "|train step: 1380 | rec loss: 0.2123 | z_dkl loss: 0.0038 | class loss: 1.5439 | w_dkl loss: 0.0000 | class_accuracy: 0.9277 |\n",
      "epoch 47 out of 100\n",
      "|train step: 1400 | rec loss: 0.2116 | z_dkl loss: 0.0005 | class loss: 1.5371 | w_dkl loss: 0.0000 | class_accuracy: 0.9385 |\n",
      "|train step: 1410 | rec loss: 0.2092 | z_dkl loss: 0.0069 | class loss: 1.5364 | w_dkl loss: 0.0000 | class_accuracy: 0.9399 |\n",
      "epoch 48 out of 100\n"
     ]
    },
    {
     "name": "stdout",
     "output_type": "stream",
     "text": [
      "|train step: 1440 | rec loss: 0.2082 | z_dkl loss: 0.0068 | class loss: 1.5347 | w_dkl loss: 0.0000 | class_accuracy: 0.9429 |\n",
      "epoch 49 out of 100\n",
      "|train step: 1470 | rec loss: 0.2100 | z_dkl loss: 0.0032 | class loss: 1.5365 | w_dkl loss: 0.0000 | class_accuracy: 0.9375 |\n",
      "epoch 50 out of 100\n",
      "|train step: 1500 | rec loss: 0.2117 | z_dkl loss: 0.0015 | class loss: 1.5361 | w_dkl loss: 0.0000 | class_accuracy: 0.9355 |\n",
      "\n",
      "epoch 51 out of 100\n",
      "|train step: 1530 | rec loss: 0.2073 | z_dkl loss: 0.0016 | class loss: 1.5304 | w_dkl loss: nan | class_accuracy: 0.9419 |5 |\n",
      "epoch 52 out of 100\n",
      "|train step: 1560 | rec loss: 0.2068 | z_dkl loss: 0.0097 | class loss: 1.5348 | w_dkl loss: nan | class_accuracy: 0.9370 |8 |\n",
      "epoch 53 out of 100\n",
      "|train step: 1590 | rec loss: 0.2068 | z_dkl loss: 0.0041 | class loss: nan | w_dkl loss: nan | class_accuracy: 0.0996 |4 |5 |\n",
      "epoch 54 out of 100\n",
      "|train step: 1600 | rec loss: 0.2074 | z_dkl loss: 0.0010 | class loss: nan | w_dkl loss: nan | class_accuracy: 0.0952 |\n",
      "|train step: 1620 | rec loss: 0.2078 | z_dkl loss: 0.0051 | class loss: nan | w_dkl loss: nan | class_accuracy: 0.0977 |\n",
      "epoch 55 out of 100\n",
      "|train step: 1650 | rec loss: 0.2057 | z_dkl loss: 0.0017 | class loss: nan | w_dkl loss: nan | class_accuracy: 0.0991 |\n",
      "epoch 56 out of 100\n",
      "|train step: 1680 | rec loss: 0.2056 | z_dkl loss: 0.0021 | class loss: nan | w_dkl loss: nan | class_accuracy: 0.1025 |\n",
      "epoch 57 out of 100\n",
      "|train step: 1700 | rec loss: 0.2078 | z_dkl loss: 0.0019 | class loss: nan | w_dkl loss: nan | class_accuracy: 0.1040 |\n",
      "|train step: 1710 | rec loss: 0.2063 | z_dkl loss: 0.0010 | class loss: nan | w_dkl loss: nan | class_accuracy: 0.0991 |\n",
      "epoch 58 out of 100\n",
      "|train step: 1740 | rec loss: 0.2046 | z_dkl loss: 0.0004 | class loss: nan | w_dkl loss: nan | class_accuracy: 0.0962 |\n",
      "epoch 59 out of 100\n",
      "|train step: 1770 | rec loss: 0.2046 | z_dkl loss: 0.0008 | class loss: nan | w_dkl loss: nan | class_accuracy: 0.0977 |\n",
      "epoch 60 out of 100\n",
      "|train step: 1800 | rec loss: 0.2053 | z_dkl loss: 0.0015 | class loss: nan | w_dkl loss: nan | class_accuracy: 0.0928 |\n",
      "\n",
      "epoch 61 out of 100\n",
      "|train step: 1830 | rec loss: 0.2027 | z_dkl loss: 0.0009 | class loss: nan | w_dkl loss: nan | class_accuracy: 0.0933 |\n",
      "epoch 62 out of 100\n",
      "|train step: 1860 | rec loss: 0.2031 | z_dkl loss: 0.0029 | class loss: nan | w_dkl loss: nan | class_accuracy: 0.0918 |\n",
      "epoch 63 out of 100\n",
      "|train step: 1890 | rec loss: 0.2006 | z_dkl loss: 0.0030 | class loss: nan | w_dkl loss: nan | class_accuracy: 0.1045 |\n",
      "epoch 64 out of 100\n",
      "|train step: 1900 | rec loss: 0.2014 | z_dkl loss: 0.0035 | class loss: nan | w_dkl loss: nan | class_accuracy: 0.0977 |\n",
      "|train step: 1920 | rec loss: 0.2029 | z_dkl loss: 0.0016 | class loss: nan | w_dkl loss: nan | class_accuracy: 0.0938 |\n",
      "epoch 65 out of 100\n",
      "|train step: 1950 | rec loss: 0.2023 | z_dkl loss: 0.0024 | class loss: nan | w_dkl loss: nan | class_accuracy: 0.0942 |\n",
      "epoch 66 out of 100\n",
      "|train step: 1980 | rec loss: 0.2001 | z_dkl loss: 0.0031 | class loss: nan | w_dkl loss: nan | class_accuracy: 0.0986 |\n",
      "epoch 67 out of 100\n",
      "|train step: 2000 | rec loss: 0.2004 | z_dkl loss: 0.0057 | class loss: nan | w_dkl loss: nan | class_accuracy: 0.1060 |\n",
      "|train step: 2010 | rec loss: 0.1994 | z_dkl loss: 0.0030 | class loss: nan | w_dkl loss: nan | class_accuracy: 0.0957 |\n",
      "epoch 68 out of 100\n",
      "|train step: 2040 | rec loss: 0.2010 | z_dkl loss: 0.0039 | class loss: nan | w_dkl loss: nan | class_accuracy: 0.1172 |\n",
      "epoch 69 out of 100\n",
      "|train step: 2070 | rec loss: 0.1988 | z_dkl loss: 0.0056 | class loss: nan | w_dkl loss: nan | class_accuracy: 0.0986 |\n",
      "epoch 70 out of 100\n",
      "|train step: 2100 | rec loss: 0.1999 | z_dkl loss: 0.0033 | class loss: nan | w_dkl loss: nan | class_accuracy: 0.1099 |\n",
      "\n",
      "epoch 71 out of 100\n",
      "|train step: 2130 | rec loss: 0.1984 | z_dkl loss: 0.0092 | class loss: nan | w_dkl loss: nan | class_accuracy: 0.0991 |\n",
      "epoch 72 out of 100\n",
      "|train step: 2160 | rec loss: 0.1981 | z_dkl loss: 0.0064 | class loss: nan | w_dkl loss: nan | class_accuracy: 0.1045 |\n",
      "epoch 73 out of 100\n",
      "|train step: 2190 | rec loss: 0.1989 | z_dkl loss: 0.0019 | class loss: nan | w_dkl loss: nan | class_accuracy: 0.0977 |\n",
      "epoch 74 out of 100\n",
      "|train step: 2200 | rec loss: 0.1999 | z_dkl loss: 0.0037 | class loss: nan | w_dkl loss: nan | class_accuracy: 0.0957 |\n",
      "|train step: 2220 | rec loss: 0.1989 | z_dkl loss: 0.0028 | class loss: nan | w_dkl loss: nan | class_accuracy: 0.1094 |\n",
      "epoch 75 out of 100\n",
      "|train step: 2250 | rec loss: 0.1975 | z_dkl loss: 0.0055 | class loss: nan | w_dkl loss: nan | class_accuracy: 0.0952 |\n",
      "epoch 76 out of 100\n",
      "|train step: 2280 | rec loss: 0.1982 | z_dkl loss: 0.0051 | class loss: nan | w_dkl loss: nan | class_accuracy: 0.0918 |\n",
      "epoch 77 out of 100\n",
      "|train step: 2300 | rec loss: 0.1993 | z_dkl loss: 0.0019 | class loss: nan | w_dkl loss: nan | class_accuracy: 0.0991 |\n",
      "|train step: 2310 | rec loss: 0.1972 | z_dkl loss: 0.0043 | class loss: nan | w_dkl loss: nan | class_accuracy: 0.0972 |\n",
      "epoch 78 out of 100\n",
      "|train step: 2340 | rec loss: 0.1969 | z_dkl loss: 0.0062 | class loss: nan | w_dkl loss: nan | class_accuracy: 0.1172 |\n",
      "epoch 79 out of 100\n",
      "|train step: 2370 | rec loss: 0.1973 | z_dkl loss: 0.0037 | class loss: nan | w_dkl loss: nan | class_accuracy: 0.0903 |\n",
      "epoch 80 out of 100\n",
      "|train step: 2400 | rec loss: 0.1970 | z_dkl loss: 0.0030 | class loss: nan | w_dkl loss: nan | class_accuracy: 0.0991 |\n",
      "\n",
      "epoch 81 out of 100\n",
      "|train step: 2430 | rec loss: 0.1982 | z_dkl loss: 0.0112 | class loss: nan | w_dkl loss: nan | class_accuracy: 0.1040 |\n",
      "epoch 82 out of 100\n",
      "|train step: 2460 | rec loss: 0.1968 | z_dkl loss: 0.0047 | class loss: nan | w_dkl loss: nan | class_accuracy: 0.1099 |\n",
      "epoch 83 out of 100\n",
      "|train step: 2490 | rec loss: 0.1962 | z_dkl loss: 0.0032 | class loss: nan | w_dkl loss: nan | class_accuracy: 0.0942 |\n",
      "epoch 84 out of 100\n",
      "|train step: 2500 | rec loss: 0.1932 | z_dkl loss: 0.0192 | class loss: nan | w_dkl loss: nan | class_accuracy: 0.1001 |\n",
      "|train step: 2520 | rec loss: 0.1955 | z_dkl loss: 0.0027 | class loss: nan | w_dkl loss: nan | class_accuracy: 0.0967 |\n",
      "epoch 85 out of 100\n",
      "|train step: 2550 | rec loss: 0.1962 | z_dkl loss: 0.0041 | class loss: nan | w_dkl loss: nan | class_accuracy: 0.0996 |\n",
      "epoch 86 out of 100\n",
      "|train step: 2580 | rec loss: 0.1957 | z_dkl loss: 0.0061 | class loss: nan | w_dkl loss: nan | class_accuracy: 0.1016 |\n",
      "epoch 87 out of 100\n",
      "|train step: 2600 | rec loss: 0.1944 | z_dkl loss: 0.0098 | class loss: nan | w_dkl loss: nan | class_accuracy: 0.0825 |\n",
      "|train step: 2610 | rec loss: 0.1949 | z_dkl loss: 0.0021 | class loss: nan | w_dkl loss: nan | class_accuracy: 0.0898 |\n",
      "epoch 88 out of 100\n",
      "|train step: 2640 | rec loss: 0.1952 | z_dkl loss: 0.0014 | class loss: nan | w_dkl loss: nan | class_accuracy: 0.0913 |\n",
      "epoch 89 out of 100\n",
      "|train step: 2670 | rec loss: 0.1959 | z_dkl loss: 0.0011 | class loss: nan | w_dkl loss: nan | class_accuracy: 0.1011 |\n",
      "epoch 90 out of 100\n",
      "|train step: 2700 | rec loss: 0.1955 | z_dkl loss: 0.0010 | class loss: nan | w_dkl loss: nan | class_accuracy: 0.0908 |\n",
      "\n",
      "epoch 91 out of 100\n",
      "|train step: 2730 | rec loss: 0.1941 | z_dkl loss: 0.0041 | class loss: nan | w_dkl loss: nan | class_accuracy: 0.1045 |\n",
      "epoch 92 out of 100\n",
      "|train step: 2760 | rec loss: 0.1937 | z_dkl loss: 0.0022 | class loss: nan | w_dkl loss: nan | class_accuracy: 0.1035 |\n",
      "epoch 93 out of 100\n",
      "|train step: 2790 | rec loss: 0.1925 | z_dkl loss: 0.0131 | class loss: nan | w_dkl loss: nan | class_accuracy: 0.1040 |\n",
      "epoch 94 out of 100\n",
      "|train step: 2800 | rec loss: 0.1939 | z_dkl loss: 0.0088 | class loss: nan | w_dkl loss: nan | class_accuracy: 0.0972 |\n",
      "|train step: 2820 | rec loss: 0.1923 | z_dkl loss: 0.0044 | class loss: nan | w_dkl loss: nan | class_accuracy: 0.1011 |\n",
      "epoch 95 out of 100\n",
      "|train step: 2850 | rec loss: 0.1940 | z_dkl loss: 0.0020 | class loss: nan | w_dkl loss: nan | class_accuracy: 0.0947 |\n",
      "epoch 96 out of 100\n",
      "|train step: 2880 | rec loss: 0.1929 | z_dkl loss: 0.0085 | class loss: nan | w_dkl loss: nan | class_accuracy: 0.0981 |\n",
      "epoch 97 out of 100\n",
      "|train step: 2900 | rec loss: 0.1927 | z_dkl loss: 0.0033 | class loss: nan | w_dkl loss: nan | class_accuracy: 0.0903 |\n"
     ]
    },
    {
     "name": "stdout",
     "output_type": "stream",
     "text": [
      "|train step: 2910 | rec loss: 0.1941 | z_dkl loss: 0.0043 | class loss: nan | w_dkl loss: nan | class_accuracy: 0.0972 |\n",
      "epoch 98 out of 100\n",
      "|train step: 2940 | rec loss: 0.1912 | z_dkl loss: 0.0038 | class loss: nan | w_dkl loss: nan | class_accuracy: 0.0947 |\n",
      "epoch 99 out of 100\n",
      "|train step: 2970 | rec loss: 0.1907 | z_dkl loss: 0.0032 | class loss: nan | w_dkl loss: nan | class_accuracy: 0.0996 |\n",
      "epoch 100 out of 100\n",
      "|train step: 3000 | rec loss: 0.1913 | z_dkl loss: 0.0102 | class loss: nan | w_dkl loss: nan | class_accuracy: 0.1123 |\n",
      "*****Finished with the final loss:  Losses(rec_loss=tensor(0.1913, grad_fn=<BinaryCrossEntropyBackward>), z_dkl_loss=tensor(0.0102, grad_fn=<MulBackward>), class_loss_0=tensor(nan, grad_fn=<NllLossBackward>), w_dkl_loss_0=tensor(nan, grad_fn=<MulBackward>))\n"
     ]
    }
   ],
   "source": [
    "save_each_steps = 500\n",
    "\n",
    "# Train loop\n",
    "train_step_i = 0\n",
    "for epoch in range(params['num_epochs']):\n",
    "    print('\\nepoch {} out of {}'.format(epoch + 1, params['num_epochs']))\n",
    "    for i in range(X_train.shape[0] // params['batch_size']):\n",
    "        # Sample batch\n",
    "        idx = random.choice(np.arange(0, X_train.shape[0]), params['batch_size'])\n",
    "        x_batch = torch.from_numpy(X_train[idx]).float()\n",
    "        y_batch = lb.transform(y_train[idx])\n",
    "        y_batch = [torch.from_numpy(y_batch).float()]\n",
    "        step_losses, step_accuracies = model.train_step(x_batch, y_batch)\n",
    "\n",
    "#         step_losses = [loss.sum().detach().numpy() for loss in step_losses]\n",
    "        # step_losses = Losses(*step_losses)\n",
    "        # step_accuracies = Accuracies(*step_accuracies)\n",
    "\n",
    "        train_losses.append(step_losses)\n",
    "        train_accuracies.append(step_accuracies)\n",
    "\n",
    "        train_step_i += 1\n",
    "\n",
    "        print(\"\\r|train step: {} | rec loss: {:.4f} | z_dkl loss: {:.4f} | class loss: {:.4f}\"\n",
    "              \" | w_dkl loss: {:.4f} | class_accuracy: {:.4f} |\".format(\n",
    "            train_step_i, *step_losses, *step_accuracies\n",
    "            ), end='')\n",
    "        if train_step_i % 100 == 0:\n",
    "            print()\n",
    "        if train_step_i % save_each_steps == 0:\n",
    "            dt = str(datetime.datetime.now().strftime(\"%m_%d_%Y_%I_%M_%p\"))\n",
    "            fname = params['model_dir'] + '/cl_vae_mnist_{}.pt'.format(dt)\n",
    "            model.save_ckpt(fname)\n",
    "print('*****Finished with the final loss: ', step_losses)"
   ]
  },
  {
   "cell_type": "markdown",
   "metadata": {},
   "source": [
    "## 5 - Show losses graph"
   ]
  },
  {
   "cell_type": "code",
   "execution_count": null,
   "metadata": {
    "scrolled": false
   },
   "outputs": [],
   "source": [
    "%matplotlib inline\n",
    "losses = defaultdict(list)\n",
    "losses_names = train_losses[0]._fields\n",
    "print(losses_names)\n",
    "step_loss = train_losses[0]\n",
    "print(*step_loss)\n",
    "for i, loss_name in enumerate(losses_names):\n",
    "    losses[loss_name] = [l[i] for l in train_losses]\n",
    "    plt.figure()\n",
    "    plt.title(loss_name)\n",
    "    plt.plot(losses[loss_name])\n",
    "    plt.legend()\n",
    "plt.show()"
   ]
  },
  {
   "cell_type": "markdown",
   "metadata": {},
   "source": [
    "## 6 - Test"
   ]
  },
  {
   "cell_type": "code",
   "execution_count": null,
   "metadata": {
    "scrolled": true
   },
   "outputs": [],
   "source": [
    "y_test = lb.transform(y_test)\n",
    "losses, acc = model.test(torch.from_numpy(X_test).float(), [torch.from_numpy(y_test).float()])\n",
    "pprint.PrettyPrinter(indent=4).pprint(losses)"
   ]
  },
  {
   "cell_type": "markdown",
   "metadata": {},
   "source": [
    "## 7 - Examples"
   ]
  },
  {
   "cell_type": "code",
   "execution_count": null,
   "metadata": {},
   "outputs": [],
   "source": [
    "#TODO\n",
    "\n"
   ]
  }
 ],
 "metadata": {
  "kernelspec": {
   "display_name": "Python 3",
   "language": "python",
   "name": "python3"
  },
  "language_info": {
   "codemirror_mode": {
    "name": "ipython",
    "version": 3
   },
   "file_extension": ".py",
   "mimetype": "text/x-python",
   "name": "python",
   "nbconvert_exporter": "python",
   "pygments_lexer": "ipython3",
   "version": "3.6.3"
  }
 },
 "nbformat": 4,
 "nbformat_minor": 1
}
